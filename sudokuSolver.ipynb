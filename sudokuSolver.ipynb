{
 "cells": [
  {
   "cell_type": "code",
   "execution_count": 1,
   "id": "43c4dc69-77a4-45b1-a821-6dfed869d181",
   "metadata": {},
   "outputs": [],
   "source": [
    "import json"
   ]
  },
  {
   "cell_type": "code",
   "execution_count": null,
   "id": "0dcd543f-a4ed-4890-b51e-486dd3729773",
   "metadata": {},
   "outputs": [],
   "source": []
  },
  {
   "cell_type": "code",
   "execution_count": 2,
   "id": "291997d4-7557-4679-a18d-d8c3e41190a1",
   "metadata": {},
   "outputs": [],
   "source": [
    "class Board:\n",
    "\n",
    "    # Class Variable\n",
    "    type = '9x9'\n",
    "\n",
    "    box_map = {(0, 0) : 0,\n",
    "    (0, 1) : 1,\n",
    "    (0, 2) : 2,\n",
    "    (1, 0) : 3,\n",
    "    (1, 1) : 4,\n",
    "    (1, 2) : 5,\n",
    "    (2, 0) : 6,\n",
    "    (2, 1) : 7,\n",
    "    (2, 2) : 8 }\n",
    "\n",
    "    # The init method or constructor\n",
    "    def __init__(self, chunk):\n",
    "        lines = chunk.split('\\n')\n",
    "        # Instance Variables\n",
    "        self.orig_board = chunk\n",
    "        self.name = lines[0]\n",
    "        self.rows = list(map(list, lines[1:10]))      \n",
    "        self.empty_squares = {}\n",
    "        self.solve_log = []\n",
    "        \n",
    "        self._calc_empties()\n",
    "        self.update_candidate_notes()\n",
    "\n",
    "    def __str__(self):\n",
    "        st = f\"{self.name}\\n{self.rows}\"\n",
    "        return st.replace('],', '],\\n')\n",
    "\n",
    "    def _calc_empties(self):\n",
    "        for r in range(0,9):\n",
    "            row = self.get_row(r)\n",
    "            for c in range(0,9):\n",
    "                if row[c] == '0':\n",
    "                    self.empty_squares[(r,c)] = None\n",
    "\n",
    "    def calc_candidates(self, square):\n",
    "        (r,c) = square\n",
    "        cands = set(list('123456789'))\n",
    "#        print(f'row {r}: {self.get_row(r)}')\n",
    "#        print(f'col {c}: {self.get_col(c)}')\n",
    "        b = self.get_box_for_square(square)\n",
    "#        print(f'box {b}: {self.get_box(b)}')\n",
    "        cands = cands.difference(self.get_row(r))\n",
    "        cands = cands.difference(self.get_col(c))\n",
    "        cands = cands.difference(self.get_box(self.get_box_for_square(square)))\n",
    "        self.empty_squares[square] = cands\n",
    "\n",
    "    def set_square(self, square, val):\n",
    "        (r, c) = square\n",
    "        self.get_row(r)[c] = val\n",
    "\n",
    "    def get_row(self, n):\n",
    "        return self.rows[n]\n",
    "\n",
    "    def get_col(self, n):\n",
    "        return list(map(lambda x: x[n], self.rows))\n",
    "\n",
    "    def get_box(self, n, flat_list=True):\n",
    "        b_row = 3 * (n // 3)\n",
    "        b_col = 3 * (n % 3)\n",
    "        box_matrix = [self.rows[b_row  ][b_col:b_col+3], \n",
    "                      self.rows[b_row+1][b_col:b_col+3], \n",
    "                      self.rows[b_row+2][b_col:b_col+3] ]\n",
    "        if flat_list:\n",
    "            return flatten(box_matrix)\n",
    "        else:\n",
    "            return box_matrix     \n",
    "            \n",
    "    def get_rows(self):\n",
    "        return self.rows\n",
    "\n",
    "    def get_cols(self):\n",
    "        return list(map(lambda x: self.get_col(x), range(0,9)))\n",
    "        \n",
    "    def get_boxes(self):\n",
    "        return list(map(lambda x: self.get_box(x), range(0,9)))\n",
    "        \n",
    "    def get_box_row(self, n):\n",
    "        if n==0:\n",
    "            return b.rows[0:3]\n",
    "        if n==1:\n",
    "            return b.rows[3:6]\n",
    "        if n==2:\n",
    "            return b.rows[6:9]\n",
    "            \n",
    "        return 'No way Jose'\n",
    "        \n",
    "    def get_box_col(self, n):\n",
    "        return [b.get_col(0), b.get_col(1), b.get_col(2)]\n",
    "\n",
    "    def get_box_for_square(self, square):\n",
    "        # return self.get_box(0)\n",
    "        (r, c) = square\n",
    "        b_row = r//3\n",
    "        b_col = c//3\n",
    "        # print(f'box: {(b_row, b_col)}')\n",
    "        return Board.box_map[(b_row, b_col)]\n",
    "\n",
    "    def get_rows_containing_digit(self, digit):\n",
    "        return [i for i, x in enumerate(map(lambda x: digit in x, b.get_rows())) if x]\n",
    "\n",
    "    def get_cols_containing_digit(self, digit):\n",
    "        return [i for i, x in enumerate(map(lambda x: digit in x, b.get_cols())) if x]\n",
    "\n",
    "    def get_boxes_containing_digit(self, digit):\n",
    "        return [i for i, x in enumerate(map(lambda x: digit in x, b.get_boxes())) if x]\n",
    "\n",
    "    def update_candidate_notes(self):\n",
    "        for sq in self.empty_squares:\n",
    "            self.calc_candidates(sq)\n",
    "        self.solve_log.append(f'{len(self.empty_squares)} squares open. Candidates per square summary: {self.summarize_board()}')\n",
    "\n",
    "    def get_solved_squares(self):\n",
    "        return {key : val for key, val in b.empty_squares.items() if len(val)==1}\n",
    "\n",
    "    def get_two_candidate_squares(self):\n",
    "        return {key : val for key, val in b.empty_squares.items() if len(val)==2}\n",
    "        \n",
    "    def fill_in_solved_squares(self):\n",
    "        single_candidates = self.get_solved_squares()\n",
    "        for sq in single_candidates:\n",
    "            self.set_square(sq, single_candidates[sq].pop())\n",
    "            self.empty_squares.pop(sq)\n",
    "\n",
    "    def summarize_board(self):\n",
    "        return hash_count(list(map(len, self.empty_squares.values())), sort=True)\n",
    "\n",
    "    def forward_solve(self):\n",
    "        while len(self.empty_squares) > 0:\n",
    "            self.fill_in_solved_squares()\n",
    "            self.update_candidate_notes()\n",
    "            if len(self.get_solved_squares()) == 0:\n",
    "                break \n",
    "\n",
    "    def export_boardstring(self):\n",
    "        # same format as original input file\n",
    "        return f'{self.name}\\n' + '\\n'.join(list(map(lambda r: ''.join(r), self.rows)))\n",
    "\n",
    "def flatten(matrix):\n",
    "    return [item for row in matrix for item in row]\n",
    "\n",
    "def hash_count(lst, sort=False):\n",
    "    summary = {}\n",
    "    for val in lst:\n",
    "        summary[val] = 1 + summary.get(val, 0)\n",
    "    if sort:\n",
    "        return dict(sorted(summary.items()))\n",
    "    else:\n",
    "        return summary\n",
    "\n",
    "def hash_count_bis(lst, sort=False):\n",
    "    summary = {}\n",
    "    for val in lst:\n",
    "        if val[1] in summary:\n",
    "            summary[val[1]].append(val)\n",
    "        else:\n",
    "            summary[val[1]] = [val]\n",
    "    if sort:\n",
    "        return dict(sorted(summary.items()))\n",
    "    else:\n",
    "        return summary"
   ]
  },
  {
   "cell_type": "code",
   "execution_count": 3,
   "id": "0226cb19-1d14-4d72-92f2-77e8e109353d",
   "metadata": {},
   "outputs": [
    {
     "data": {
      "text/plain": [
       "['1', '2', '3', '4', '5', '6', '7', '8', '9']"
      ]
     },
     "execution_count": 3,
     "metadata": {},
     "output_type": "execute_result"
    }
   ],
   "source": [
    "list('123456789')"
   ]
  },
  {
   "cell_type": "code",
   "execution_count": 4,
   "id": "ae514078-6a65-4e09-b419-07379fc3fb9b",
   "metadata": {},
   "outputs": [],
   "source": [
    "def buildboard(chunk):\n",
    "    b = {}\n",
    "    lines = chunk.split('\\n')\n",
    "    b[lines[0]] = list(map(list, lines[1:10]))\n",
    "    return b"
   ]
  },
  {
   "cell_type": "code",
   "execution_count": 8,
   "id": "76cf1acf-d2e4-43ab-86ca-c967ebc04402",
   "metadata": {},
   "outputs": [
    {
     "data": {
      "text/plain": [
       "['Grid 01\\n003020600\\n900305001\\n001806400\\n008102900\\n700000008\\n006708200\\n002609500\\n800203009\\n005010300\\n',\n",
       " 'Grid 02\\n200080300\\n060070084\\n030500209\\n000105408\\n000000000\\n402706000\\n301007040\\n720040060\\n004010003\\n',\n",
       " 'Grid 03\\n000000907\\n000420180\\n000705026\\n100904000\\n050000040\\n000507009\\n920108000\\n034059000\\n507000000\\n',\n",
       " 'Grid 04\\n030050040\\n008010500\\n460000012\\n070502080\\n000603000\\n040109030\\n250000098\\n001020600\\n080060020\\n',\n",
       " 'Grid 05\\n020810740\\n700003100\\n090002805\\n009040087\\n400208003\\n160030200\\n302700060\\n005600008\\n076051090\\n',\n",
       " 'Grid 06\\n100920000\\n524010000\\n000000070\\n050008102\\n000000000\\n402700090\\n060000000\\n000030945\\n000071006\\n',\n",
       " 'Grid 07\\n043080250\\n600000000\\n000001094\\n900004070\\n000608000\\n010200003\\n820500000\\n000000005\\n034090710\\n',\n",
       " 'Grid 08\\n480006902\\n002008001\\n900370060\\n840010200\\n003704100\\n001060049\\n020085007\\n700900600\\n609200018\\n',\n",
       " 'Grid 09\\n000900002\\n050123400\\n030000160\\n908000000\\n070000090\\n000000205\\n091000050\\n007439020\\n400007000\\n',\n",
       " 'Grid 10\\n001900003\\n900700160\\n030005007\\n050000009\\n004302600\\n200000070\\n600100030\\n042007006\\n500006800\\n',\n",
       " 'Grid 11\\n000125400\\n008400000\\n420800000\\n030000095\\n060902010\\n510000060\\n000003049\\n000007200\\n001298000\\n',\n",
       " 'Grid 12\\n062340750\\n100005600\\n570000040\\n000094800\\n400000006\\n005830000\\n030000091\\n006400007\\n059083260\\n',\n",
       " 'Grid 13\\n300000000\\n005009000\\n200504000\\n020000700\\n160000058\\n704310600\\n000890100\\n000067080\\n000005437\\n',\n",
       " 'Grid 14\\n630000000\\n000500008\\n005674000\\n000020000\\n003401020\\n000000345\\n000007004\\n080300902\\n947100080\\n',\n",
       " 'Grid 15\\n000020040\\n008035000\\n000070602\\n031046970\\n200000000\\n000501203\\n049000730\\n000000010\\n800004000\\n',\n",
       " 'Grid 16\\n361025900\\n080960010\\n400000057\\n008000471\\n000603000\\n259000800\\n740000005\\n020018060\\n005470329\\n',\n",
       " 'Grid 17\\n050807020\\n600010090\\n702540006\\n070020301\\n504000908\\n103080070\\n900076205\\n060090003\\n080103040\\n',\n",
       " 'Grid 18\\n080005000\\n000003457\\n000070809\\n060400903\\n007010500\\n408007020\\n901020000\\n842300000\\n000100080\\n',\n",
       " 'Grid 19\\n003502900\\n000040000\\n106000305\\n900251008\\n070408030\\n800763001\\n308000104\\n000020000\\n005104800\\n',\n",
       " 'Grid 20\\n000000000\\n009805100\\n051907420\\n290401065\\n000000000\\n140508093\\n026709580\\n005103600\\n000000000\\n',\n",
       " 'Grid 21\\n020030090\\n000907000\\n900208005\\n004806500\\n607000208\\n003102900\\n800605007\\n000309000\\n030020050\\n',\n",
       " 'Grid 22\\n005000006\\n070009020\\n000500107\\n804150000\\n000803000\\n000092805\\n907006000\\n030400010\\n200000600\\n',\n",
       " 'Grid 23\\n040000050\\n001943600\\n009000300\\n600050002\\n103000506\\n800020007\\n005000200\\n002436700\\n030000040\\n',\n",
       " 'Grid 24\\n004000000\\n000030002\\n390700080\\n400009001\\n209801307\\n600200008\\n010008053\\n900040000\\n000000800\\n',\n",
       " 'Grid 25\\n360020089\\n000361000\\n000000000\\n803000602\\n400603007\\n607000108\\n000000000\\n000418000\\n970030014\\n',\n",
       " 'Grid 26\\n500400060\\n009000800\\n640020000\\n000001008\\n208000501\\n700500000\\n000090084\\n003000600\\n060003002\\n',\n",
       " 'Grid 27\\n007256400\\n400000005\\n010030060\\n000508000\\n008060200\\n000107000\\n030070090\\n200000004\\n006312700\\n',\n",
       " 'Grid 28\\n000000000\\n079050180\\n800000007\\n007306800\\n450708096\\n003502700\\n700000005\\n016030420\\n000000000\\n',\n",
       " 'Grid 29\\n030000080\\n009000500\\n007509200\\n700105008\\n020090030\\n900402001\\n004207100\\n002000800\\n070000090\\n',\n",
       " 'Grid 30\\n200170603\\n050000100\\n000006079\\n000040700\\n000801000\\n009050000\\n310400000\\n005000060\\n906037002\\n',\n",
       " 'Grid 31\\n000000080\\n800701040\\n040020030\\n374000900\\n000030000\\n005000321\\n010060050\\n050802006\\n080000000\\n',\n",
       " 'Grid 32\\n000000085\\n000210009\\n960080100\\n500800016\\n000000000\\n890006007\\n009070052\\n300054000\\n480000000\\n',\n",
       " 'Grid 33\\n608070502\\n050608070\\n002000300\\n500090006\\n040302050\\n800050003\\n005000200\\n010704090\\n409060701\\n',\n",
       " 'Grid 34\\n050010040\\n107000602\\n000905000\\n208030501\\n040070020\\n901080406\\n000401000\\n304000709\\n020060010\\n',\n",
       " 'Grid 35\\n053000790\\n009753400\\n100000002\\n090080010\\n000907000\\n080030070\\n500000003\\n007641200\\n061000940\\n',\n",
       " 'Grid 36\\n006080300\\n049070250\\n000405000\\n600317004\\n007000800\\n100826009\\n000702000\\n075040190\\n003090600\\n',\n",
       " 'Grid 37\\n005080700\\n700204005\\n320000084\\n060105040\\n008000500\\n070803010\\n450000091\\n600508007\\n003010600\\n',\n",
       " 'Grid 38\\n000900800\\n128006400\\n070800060\\n800430007\\n500000009\\n600079008\\n090004010\\n003600284\\n001007000\\n',\n",
       " 'Grid 39\\n000080000\\n270000054\\n095000810\\n009806400\\n020403060\\n006905100\\n017000620\\n460000038\\n000090000\\n',\n",
       " 'Grid 40\\n000602000\\n400050001\\n085010620\\n038206710\\n000000000\\n019407350\\n026040530\\n900020007\\n000809000\\n',\n",
       " 'Grid 41\\n000900002\\n050123400\\n030000160\\n908000000\\n070000090\\n000000205\\n091000050\\n007439020\\n400007000\\n',\n",
       " 'Grid 42\\n380000000\\n000400785\\n009020300\\n060090000\\n800302009\\n000040070\\n001070500\\n495006000\\n000000092\\n',\n",
       " 'Grid 43\\n000158000\\n002060800\\n030000040\\n027030510\\n000000000\\n046080790\\n050000080\\n004070100\\n000325000\\n',\n",
       " 'Grid 44\\n010500200\\n900001000\\n002008030\\n500030007\\n008000500\\n600080004\\n040100700\\n000700006\\n003004050\\n',\n",
       " 'Grid 45\\n080000040\\n000469000\\n400000007\\n005904600\\n070608030\\n008502100\\n900000005\\n000781000\\n060000010\\n',\n",
       " 'Grid 46\\n904200007\\n010000000\\n000706500\\n000800090\\n020904060\\n040002000\\n001607000\\n000000030\\n300005702\\n',\n",
       " 'Grid 47\\n000700800\\n006000031\\n040002000\\n024070000\\n010030080\\n000060290\\n000800070\\n860000500\\n002006000\\n',\n",
       " 'Grid 48\\n001007090\\n590080001\\n030000080\\n000005800\\n050060020\\n004100000\\n080000030\\n100020079\\n020700400\\n',\n",
       " 'Grid 49\\n000003017\\n015009008\\n060000000\\n100007000\\n009000200\\n000500004\\n000000020\\n500600340\\n340200000\\n',\n",
       " 'Grid 50\\n300200000\\n000107000\\n706030500\\n070009080\\n900020004\\n010800050\\n009040301\\n000702000\\n000008006\\n']"
      ]
     },
     "execution_count": 8,
     "metadata": {},
     "output_type": "execute_result"
    }
   ],
   "source": [
    "#infile = 'sudoku.txt'\n",
    "infile = 'p096_sudoku.txt'\n",
    "boardchunks = []\n",
    "boardlines = ''\n",
    "with open(infile) as f:\n",
    "    for line in f:        \n",
    "        if line.startswith('Grid') and boardlines:\n",
    "            boardchunks.append(boardlines)\n",
    "            boardlines = line\n",
    "        else:\n",
    "            boardlines += line\n",
    "boardchunks"
   ]
  },
  {
   "cell_type": "code",
   "execution_count": 13,
   "id": "2b1a6bed-3fe3-4c09-af43-3fc1a6001daa",
   "metadata": {},
   "outputs": [
    {
     "name": "stdout",
     "output_type": "stream",
     "text": [
      "Grid 02\n",
      "[['2', '0', '0', '0', '8', '0', '3', '0', '0'],\n",
      " ['0', '6', '0', '0', '7', '0', '0', '8', '4'],\n",
      " ['0', '3', '0', '5', '0', '0', '2', '0', '9'],\n",
      " ['0', '0', '0', '1', '0', '5', '4', '0', '8'],\n",
      " ['0', '0', '0', '0', '0', '0', '0', '0', '0'],\n",
      " ['4', '0', '2', '7', '0', '6', '0', '0', '0'],\n",
      " ['3', '0', '1', '0', '0', '7', '0', '4', '0'],\n",
      " ['7', '2', '0', '0', '4', '0', '0', '6', '0'],\n",
      " ['0', '0', '4', '0', '1', '0', '0', '0', '3']]\n"
     ]
    }
   ],
   "source": [
    "b = Board(boardchunks[1])\n",
    "print(b)"
   ]
  },
  {
   "cell_type": "code",
   "execution_count": 15,
   "id": "f98a63ba-2a16-4923-b295-e20b97e71c12",
   "metadata": {},
   "outputs": [
    {
     "name": "stdout",
     "output_type": "stream",
     "text": [
      "Grid 02\n",
      "[['2', '0', '0', '0', '8', '0', '3', '0', '0'],\n",
      " ['0', '6', '0', '0', '7', '0', '0', '8', '4'],\n",
      " ['0', '3', '0', '5', '6', '0', '2', '0', '9'],\n",
      " ['0', '0', '0', '1', '0', '5', '4', '0', '8'],\n",
      " ['0', '0', '0', '0', '0', '0', '0', '0', '0'],\n",
      " ['4', '0', '2', '7', '0', '6', '0', '0', '0'],\n",
      " ['3', '0', '1', '0', '0', '7', '0', '4', '0'],\n",
      " ['7', '2', '0', '0', '4', '0', '0', '6', '0'],\n",
      " ['0', '0', '4', '0', '1', '0', '0', '0', '3']]\n"
     ]
    }
   ],
   "source": [
    "b.forward_solve()\n",
    "print(b)"
   ]
  },
  {
   "cell_type": "code",
   "execution_count": 11,
   "id": "e4229edc-2210-4eb5-9de3-6670f0020b95",
   "metadata": {},
   "outputs": [
    {
     "name": "stdout",
     "output_type": "stream",
     "text": [
      "Grid 02\n",
      "[['2', '0', '0', '0', '8', '0', '3', '0', '0'],\n",
      " ['0', '6', '0', '0', '7', '0', '0', '8', '4'],\n",
      " ['0', '3', '0', '5', '0', '0', '2', '0', '9'],\n",
      " ['0', '0', '0', '1', '0', '5', '4', '0', '8'],\n",
      " ['0', '0', '0', '0', '0', '0', '0', '0', '0'],\n",
      " ['4', '0', '2', '7', '0', '6', '0', '0', '0'],\n",
      " ['3', '0', '1', '0', '0', '7', '0', '4', '0'],\n",
      " ['7', '2', '0', '0', '4', '0', '0', '6', '0'],\n",
      " ['0', '0', '4', '0', '1', '0', '0', '0', '3']]\n"
     ]
    }
   ],
   "source": [
    "# b.set_square((0, 1), '4')\n",
    "# b.set_square((6, 4), '5')\n",
    "b.empty_squares[(0,1)] = set(['4'])\n",
    "b.empty_squares[(6,4)] = set(['5'])\n",
    "print(b)\n"
   ]
  },
  {
   "cell_type": "code",
   "execution_count": 12,
   "id": "fff77b5a-6ce4-4995-a66e-6e4e20b2925a",
   "metadata": {},
   "outputs": [
    {
     "name": "stdout",
     "output_type": "stream",
     "text": [
      "Grid 02\n",
      "[['2', '4', '0', '9', '8', '1', '3', '0', '0'],\n",
      " ['0', '6', '0', '0', '7', '0', '0', '8', '4'],\n",
      " ['0', '3', '0', '5', '6', '4', '2', '0', '9'],\n",
      " ['0', '0', '0', '1', '0', '5', '4', '0', '8'],\n",
      " ['0', '0', '0', '0', '0', '0', '0', '0', '0'],\n",
      " ['4', '0', '2', '7', '0', '6', '0', '0', '0'],\n",
      " ['3', '0', '1', '0', '5', '7', '0', '4', '2'],\n",
      " ['7', '2', '0', '0', '4', '0', '0', '6', '0'],\n",
      " ['0', '0', '4', '0', '1', '0', '0', '0', '3']]\n"
     ]
    }
   ],
   "source": [
    "b.forward_solve()\n",
    "print(b)"
   ]
  },
  {
   "cell_type": "code",
   "execution_count": 71,
   "id": "cf337517-b15b-45a2-8763-01175409e29b",
   "metadata": {},
   "outputs": [
    {
     "name": "stdout",
     "output_type": "stream",
     "text": [
      "Grid 02\n",
      "[['2', '4', '0', '9', '8', '1', '3', '0', '6'],\n",
      " ['0', '6', '0', '0', '7', '0', '0', '8', '4'],\n",
      " ['0', '3', '0', '5', '6', '4', '2', '0', '9'],\n",
      " ['0', '0', '0', '1', '0', '5', '4', '0', '8'],\n",
      " ['0', '0', '0', '4', '0', '0', '0', '2', '0'],\n",
      " ['4', '0', '2', '7', '0', '6', '0', '0', '0'],\n",
      " ['3', '0', '1', '0', '5', '7', '0', '4', '2'],\n",
      " ['7', '2', '0', '0', '4', '0', '0', '6', '0'],\n",
      " ['0', '0', '4', '0', '1', '0', '0', '0', '3']]\n"
     ]
    }
   ],
   "source": [
    "b.empty_squares[(0,8)] = set(['6'])\n",
    "b.empty_squares[(4,3)] = set(['4'])\n",
    "b.empty_squares[(4,7)] = set(['2'])\n",
    "b.forward_solve()\n",
    "print(b)"
   ]
  },
  {
   "cell_type": "code",
   "execution_count": 73,
   "id": "c9d70d2b-3879-48e6-80aa-691e87b660e5",
   "metadata": {},
   "outputs": [
    {
     "name": "stdout",
     "output_type": "stream",
     "text": [
      "Grid 02\n",
      "[['2', '4', '0', '9', '8', '1', '3', '0', '6'],\n",
      " ['0', '6', '0', '0', '7', '0', '0', '8', '4'],\n",
      " ['0', '3', '0', '5', '6', '4', '2', '0', '9'],\n",
      " ['9', '7', '6', '1', '2', '5', '4', '3', '8'],\n",
      " ['0', '0', '0', '4', '0', '0', '6', '2', '0'],\n",
      " ['4', '0', '2', '7', '0', '6', '0', '0', '0'],\n",
      " ['3', '0', '1', '0', '5', '7', '0', '4', '2'],\n",
      " ['7', '2', '0', '0', '4', '0', '0', '6', '0'],\n",
      " ['6', '0', '4', '0', '1', '0', '0', '0', '3']]\n"
     ]
    }
   ],
   "source": [
    "b.empty_squares[(3,4)] = set(['2'])\n",
    "b.empty_squares[(4,6)] = set(['6'])\n",
    "b.empty_squares[(8,0)] = set(['6'])\n",
    "b.forward_solve()\n",
    "print(b)"
   ]
  },
  {
   "cell_type": "code",
   "execution_count": 75,
   "id": "bf73b4af-2183-4962-98ed-347c0faf2e2b",
   "metadata": {},
   "outputs": [
    {
     "name": "stdout",
     "output_type": "stream",
     "text": [
      "Grid 02\n",
      "[['2', '4', '0', '9', '8', '1', '3', '0', '6'],\n",
      " ['0', '6', '9', '0', '7', '0', '0', '8', '4'],\n",
      " ['0', '3', '0', '5', '6', '4', '2', '0', '9'],\n",
      " ['9', '7', '6', '1', '2', '5', '4', '3', '8'],\n",
      " ['0', '0', '3', '4', '9', '8', '6', '2', '0'],\n",
      " ['4', '0', '2', '7', '3', '6', '0', '0', '0'],\n",
      " ['3', '0', '1', '6', '5', '7', '0', '4', '2'],\n",
      " ['7', '2', '0', '0', '4', '0', '0', '6', '0'],\n",
      " ['6', '0', '4', '0', '1', '0', '0', '0', '3']]\n"
     ]
    }
   ],
   "source": [
    "b.empty_squares[(1,2)] = set(['9'])\n",
    "b.empty_squares[(4,2)] = set(['3'])\n",
    "b.empty_squares[(5,4)] = set(['3'])\n",
    "b.empty_squares[(6,3)] = set(['6'])\n",
    "b.forward_solve()\n",
    "print(b)"
   ]
  },
  {
   "cell_type": "code",
   "execution_count": 77,
   "id": "949553cf-3956-4c5c-8c9c-65d835178eef",
   "metadata": {},
   "outputs": [
    {
     "name": "stdout",
     "output_type": "stream",
     "text": [
      "Grid 02\n",
      "[['2', '4', '5', '9', '8', '1', '3', '7', '6'],\n",
      " ['1', '6', '9', '2', '7', '3', '5', '8', '4'],\n",
      " ['8', '3', '7', '5', '6', '4', '2', '1', '9'],\n",
      " ['9', '7', '6', '1', '2', '5', '4', '3', '8'],\n",
      " ['5', '1', '3', '4', '9', '8', '6', '2', '7'],\n",
      " ['4', '8', '2', '7', '3', '6', '9', '5', '1'],\n",
      " ['3', '9', '1', '6', '5', '7', '8', '4', '2'],\n",
      " ['7', '2', '8', '3', '4', '9', '1', '6', '5'],\n",
      " ['6', '5', '4', '8', '1', '2', '7', '9', '3']]\n"
     ]
    }
   ],
   "source": [
    "b.empty_squares[(5,1)] = set(['8'])\n",
    "b.forward_solve()\n",
    "print(b)"
   ]
  },
  {
   "cell_type": "code",
   "execution_count": 78,
   "id": "8ffc3f3e-b26f-4269-a212-841d16e864ce",
   "metadata": {},
   "outputs": [
    {
     "name": "stdout",
     "output_type": "stream",
     "text": [
      "51 squares open. Candidates per square summary: {1: 1, 2: 12, 3: 16, 4: 13, 5: 7, 6: 2}\n",
      "48 squares open. Candidates per square summary: {1: 2, 2: 14, 3: 12, 4: 12, 5: 6, 6: 2}\n",
      "46 squares open. Candidates per square summary: {1: 1, 2: 17, 3: 12, 4: 10, 5: 4, 6: 2}\n",
      "45 squares open. Candidates per square summary: {1: 1, 2: 18, 3: 11, 4: 9, 5: 4, 6: 2}\n",
      "44 squares open. Candidates per square summary: {2: 18, 3: 11, 4: 10, 5: 3, 6: 2}\n",
      "41 squares open. Candidates per square summary: {2: 19, 3: 12, 4: 6, 5: 3, 6: 1}\n",
      "38 squares open. Candidates per square summary: {1: 1, 2: 19, 3: 10, 4: 6, 5: 2}\n",
      "37 squares open. Candidates per square summary: {1: 1, 2: 20, 3: 11, 4: 5}\n",
      "36 squares open. Candidates per square summary: {1: 1, 2: 20, 3: 12, 4: 3}\n",
      "35 squares open. Candidates per square summary: {1: 1, 2: 19, 3: 13, 4: 2}\n",
      "34 squares open. Candidates per square summary: {2: 19, 3: 13, 4: 2}\n",
      "30 squares open. Candidates per square summary: {1: 1, 2: 17, 3: 10, 4: 2}\n",
      "29 squares open. Candidates per square summary: {1: 1, 2: 16, 3: 10, 4: 2}\n",
      "28 squares open. Candidates per square summary: {2: 20, 3: 6, 4: 2}\n",
      "27 squares open. Candidates per square summary: {1: 1, 2: 20, 3: 4, 4: 2}\n",
      "26 squares open. Candidates per square summary: {1: 2, 2: 18, 3: 4, 4: 2}\n",
      "24 squares open. Candidates per square summary: {1: 2, 2: 18, 3: 4}\n",
      "22 squares open. Candidates per square summary: {1: 3, 2: 16, 3: 3}\n",
      "19 squares open. Candidates per square summary: {1: 6, 2: 10, 3: 3}\n",
      "13 squares open. Candidates per square summary: {1: 6, 2: 6, 3: 1}\n",
      "7 squares open. Candidates per square summary: {1: 2, 2: 5}\n",
      "5 squares open. Candidates per square summary: {1: 4, 2: 1}\n",
      "1 squares open. Candidates per square summary: {1: 1}\n",
      "0 squares open. Candidates per square summary: {}\n"
     ]
    }
   ],
   "source": [
    "for logline in b.solve_log:\n",
    "    print(logline)"
   ]
  },
  {
   "cell_type": "code",
   "execution_count": 107,
   "id": "d69388e9-b4e0-4573-b605-7c6bc59314b8",
   "metadata": {},
   "outputs": [
    {
     "name": "stdout",
     "output_type": "stream",
     "text": [
      "Grid 02\n",
      "[['2', '0', '0', '0', '8', '0', '3', '0', '0'],\n",
      " ['0', '6', '0', '0', '7', '0', '0', '8', '4'],\n",
      " ['0', '3', '0', '5', '6', '0', '2', '0', '9'],\n",
      " ['0', '0', '0', '1', '0', '5', '4', '0', '8'],\n",
      " ['0', '0', '0', '0', '0', '0', '0', '0', '0'],\n",
      " ['4', '0', '2', '7', '0', '6', '0', '0', '0'],\n",
      " ['3', '0', '1', '0', '0', '7', '0', '4', '0'],\n",
      " ['7', '2', '0', '0', '4', '0', '0', '6', '0'],\n",
      " ['0', '0', '4', '0', '1', '0', '0', '0', '3']]\n"
     ]
    }
   ],
   "source": [
    "b.forward_solve()\n",
    "print(b)"
   ]
  },
  {
   "cell_type": "code",
   "execution_count": 108,
   "id": "f3495e6c-4830-45ca-b348-b812d46d7364",
   "metadata": {},
   "outputs": [
    {
     "data": {
      "text/plain": [
       "[['2', '0', '0', '0', '8', '0', '3', '0', '0'],\n",
       " ['0', '6', '0', '0', '7', '0', '0', '8', '4'],\n",
       " ['0', '3', '0', '5', '6', '0', '2', '0', '9']]"
      ]
     },
     "execution_count": 108,
     "metadata": {},
     "output_type": "execute_result"
    }
   ],
   "source": [
    "b.get_box_row(0)"
   ]
  },
  {
   "cell_type": "code",
   "execution_count": 109,
   "id": "d1f64f16-4766-4d82-91b9-cae42dc36430",
   "metadata": {},
   "outputs": [
    {
     "data": {
      "text/plain": [
       "[['2', '0', '0', '0', '0', '4', '3', '7', '0'],\n",
       " ['0', '6', '3', '0', '0', '0', '0', '2', '0'],\n",
       " ['0', '0', '0', '0', '0', '2', '1', '0', '4']]"
      ]
     },
     "execution_count": 109,
     "metadata": {},
     "output_type": "execute_result"
    }
   ],
   "source": [
    "b.get_box_col(0)"
   ]
  },
  {
   "cell_type": "code",
   "execution_count": 156,
   "id": "a78f2ecb-f74b-47d2-9a50-eb7b8043088a",
   "metadata": {},
   "outputs": [
    {
     "data": {
      "text/plain": [
       "{'4': 2, '3': 2}"
      ]
     },
     "execution_count": 156,
     "metadata": {},
     "output_type": "execute_result"
    }
   ],
   "source": [
    "# box_col == 0 means the first column of boxes, i.e. the first 3 columns\n",
    "\n",
    "digit_summary = hash_count(flatten(b.get_box_col(0)))\n",
    "digit_summary.pop('0')\n",
    "digit_summary\n",
    "digits_filled_in_2_boxes_out_of_3 = {key : val for key, val in digit_summary.items() if val==2}\n",
    "digits_filled_in_2_boxes_out_of_3"
   ]
  },
  {
   "cell_type": "code",
   "execution_count": 188,
   "id": "e9463c86-c0d3-431e-a115-950bca910ada",
   "metadata": {},
   "outputs": [
    {
     "data": {
      "text/plain": [
       "[0, 2, 4, 6, 7, 8]"
      ]
     },
     "execution_count": 188,
     "metadata": {},
     "output_type": "execute_result"
    }
   ],
   "source": [
    "b.get_cols_containing_digit('4')"
   ]
  },
  {
   "cell_type": "code",
   "execution_count": 16,
   "id": "78123378-9b92-43b3-b202-26d9d0dac82e",
   "metadata": {},
   "outputs": [
    {
     "data": {
      "text/plain": [
       "[['2', '0', '0', '0', '0', '4', '3', '7', '0'],\n",
       " ['0', '6', '3', '0', '0', '0', '0', '2', '0'],\n",
       " ['0', '0', '0', '0', '0', '2', '1', '0', '4']]"
      ]
     },
     "execution_count": 16,
     "metadata": {},
     "output_type": "execute_result"
    }
   ],
   "source": [
    "b.get_box_col(0)"
   ]
  },
  {
   "cell_type": "code",
   "execution_count": 186,
   "id": "d4f3ed84-17fd-4260-b4a1-fc34e7f3e091",
   "metadata": {},
   "outputs": [
    {
     "data": {
      "text/plain": [
       "{'4': [(5, '4'), (8, '4')], '3': [(6, '3'), (2, '3')]}"
      ]
     },
     "execution_count": 186,
     "metadata": {},
     "output_type": "execute_result"
    }
   ],
   "source": [
    "digit_summary_w_index = hash_count_bis(flatten(list(map(lambda x: list(enumerate(x)), b.get_box_col(0)))))\n",
    "digit_summary_w_index.pop('0')\n",
    "digit_summary_w_index\n",
    "digits_filled_in_2_boxes_out_of_3_idx = {key : val for key, val in digit_summary_w_index.items() if len(val)==2}\n",
    "digits_filled_in_2_boxes_out_of_3_idx"
   ]
  },
  {
   "cell_type": "code",
   "execution_count": 18,
   "id": "c6660fb1-a0b9-46c9-a5cb-1630dc323103",
   "metadata": {},
   "outputs": [
    {
     "data": {
      "text/plain": [
       "[0, 2, 4, 6, 7, 8]"
      ]
     },
     "execution_count": 18,
     "metadata": {},
     "output_type": "execute_result"
    }
   ],
   "source": [
    "b.get_cols_containing_digit('4')"
   ]
  },
  {
   "cell_type": "code",
   "execution_count": 19,
   "id": "d202005b-5065-4d05-86db-7af82bc948ee",
   "metadata": {},
   "outputs": [],
   "source": [
    "cols_in_box_col_0 = [0, 1, 2] "
   ]
  },
  {
   "cell_type": "code",
   "execution_count": 20,
   "id": "7e0ca206-99d5-4746-b1e6-8c1a086dbcd3",
   "metadata": {},
   "outputs": [
    {
     "data": {
      "text/plain": [
       "1"
      ]
     },
     "execution_count": 20,
     "metadata": {},
     "output_type": "execute_result"
    }
   ],
   "source": [
    "column_needs_digit4 = set(cols_in_box_col_0).difference(set(b.get_cols_containing_digit('4'))).pop()\n",
    "column_needs_digit4"
   ]
  },
  {
   "cell_type": "code",
   "execution_count": 157,
   "id": "2c64fb83-1129-4e54-8b34-d101cfa547e2",
   "metadata": {},
   "outputs": [
    {
     "data": {
      "text/plain": [
       "[1, 3, 5, 6, 7, 8]"
      ]
     },
     "execution_count": 157,
     "metadata": {},
     "output_type": "execute_result"
    }
   ],
   "source": [
    "b.get_rows_containing_digit('4')"
   ]
  },
  {
   "cell_type": "code",
   "execution_count": 158,
   "id": "dfdc1465-1ed3-440c-b51f-ed05f20bbd01",
   "metadata": {},
   "outputs": [
    {
     "data": {
      "text/plain": [
       "[0, 2, 4, 6, 7, 8]"
      ]
     },
     "execution_count": 158,
     "metadata": {},
     "output_type": "execute_result"
    }
   ],
   "source": [
    "b.get_cols_containing_digit('4')"
   ]
  },
  {
   "cell_type": "code",
   "execution_count": 160,
   "id": "53782e22-d29c-4634-8148-701af0891f0b",
   "metadata": {},
   "outputs": [
    {
     "data": {
      "text/plain": [
       "[2, 3, 5, 6, 7, 8]"
      ]
     },
     "execution_count": 160,
     "metadata": {},
     "output_type": "execute_result"
    }
   ],
   "source": [
    "b.get_boxes_containing_digit('4')"
   ]
  },
  {
   "cell_type": "code",
   "execution_count": 21,
   "id": "22a995e8-41bc-4811-948f-6e1d94eeb0c3",
   "metadata": {},
   "outputs": [],
   "source": [
    "boxes_in_box_col0  =[0, 3, 6]"
   ]
  },
  {
   "cell_type": "code",
   "execution_count": 23,
   "id": "117b1c7d-17a4-4235-9eb3-b5654e8bc7ed",
   "metadata": {},
   "outputs": [
    {
     "data": {
      "text/plain": [
       "0"
      ]
     },
     "execution_count": 23,
     "metadata": {},
     "output_type": "execute_result"
    }
   ],
   "source": [
    "box_neeeds_digit4 = set(boxes_in_box_col0).difference(set(b.get_boxes_containing_digit('4'))).pop()\n",
    "box_neeeds_digit4"
   ]
  },
  {
   "cell_type": "code",
   "execution_count": 24,
   "id": "1e0e0244-f11d-423b-97ba-e4aff36bf5bb",
   "metadata": {},
   "outputs": [
    {
     "data": {
      "text/plain": [
       "['2', '0', '0', '0', '6', '0', '0', '3', '0']"
      ]
     },
     "execution_count": 24,
     "metadata": {},
     "output_type": "execute_result"
    }
   ],
   "source": [
    "b.get_box(box_neeeds_digit4)"
   ]
  },
  {
   "cell_type": "code",
   "execution_count": 25,
   "id": "2d5dd0e2-fc7b-4f12-9cd4-0c34a7783d2b",
   "metadata": {},
   "outputs": [
    {
     "data": {
      "text/plain": [
       "['0', '6', '3', '0', '0', '0', '0', '2', '0']"
      ]
     },
     "execution_count": 25,
     "metadata": {},
     "output_type": "execute_result"
    }
   ],
   "source": [
    "b.get_col(column_needs_digit4)"
   ]
  },
  {
   "cell_type": "code",
   "execution_count": 180,
   "id": "501f9c25-cf67-4906-9f69-c30c9e1910c2",
   "metadata": {},
   "outputs": [
    {
     "data": {
      "text/plain": [
       "{'2': [(0, '2'), (7, '2'), (5, '2')],\n",
       " '0': [(1, '0'),\n",
       "  (2, '0'),\n",
       "  (3, '0'),\n",
       "  (4, '0'),\n",
       "  (8, '0'),\n",
       "  (0, '0'),\n",
       "  (3, '0'),\n",
       "  (4, '0'),\n",
       "  (5, '0'),\n",
       "  (6, '0'),\n",
       "  (8, '0'),\n",
       "  (0, '0'),\n",
       "  (1, '0'),\n",
       "  (2, '0'),\n",
       "  (3, '0'),\n",
       "  (4, '0'),\n",
       "  (7, '0')],\n",
       " '4': [(5, '4'), (8, '4')],\n",
       " '3': [(6, '3'), (2, '3')],\n",
       " '7': [(7, '7')],\n",
       " '6': [(1, '6')],\n",
       " '1': [(6, '1')]}"
      ]
     },
     "execution_count": 180,
     "metadata": {},
     "output_type": "execute_result"
    }
   ],
   "source": [
    "hash_count_bis(flatten(list(map(lambda x: list(enumerate(x)), b.get_box_col(0)))))"
   ]
  },
  {
   "cell_type": "code",
   "execution_count": 142,
   "id": "03b5e9c4-41d5-4320-9256-aa692e0f4e00",
   "metadata": {},
   "outputs": [
    {
     "data": {
      "text/plain": [
       "[True, False, True, False, False, True, False, True, False]"
      ]
     },
     "execution_count": 142,
     "metadata": {},
     "output_type": "execute_result"
    }
   ],
   "source": [
    "list(map(lambda x: '2' in x, b.rows))"
   ]
  },
  {
   "cell_type": "code",
   "execution_count": 147,
   "id": "31dc4556-f95e-4321-ac61-44e3785a6351",
   "metadata": {},
   "outputs": [
    {
     "data": {
      "text/plain": [
       "[0, 1, 2, 6]"
      ]
     },
     "execution_count": 147,
     "metadata": {},
     "output_type": "execute_result"
    }
   ],
   "source": [
    "[i for i, x in enumerate(map(lambda x: '2' in x, b.get_cols())) if x]\n"
   ]
  },
  {
   "cell_type": "code",
   "execution_count": 143,
   "id": "ebf194c5-4b5f-4550-b511-47f72045046d",
   "metadata": {},
   "outputs": [
    {
     "data": {
      "text/plain": [
       "[['2', '0', '0', '0', '8', '0', '3', '0', '0'],\n",
       " ['0', '3', '0', '5', '0', '0', '2', '0', '9'],\n",
       " ['4', '0', '2', '7', '0', '6', '0', '0', '0'],\n",
       " ['7', '2', '0', '0', '4', '0', '0', '6', '0']]"
      ]
     },
     "execution_count": 143,
     "metadata": {},
     "output_type": "execute_result"
    }
   ],
   "source": [
    "list(filter(lambda x: '2' in x, b.rows))"
   ]
  },
  {
   "cell_type": "code",
   "execution_count": 139,
   "id": "9b69ac3a-7941-44aa-b9b0-183140febfd7",
   "metadata": {},
   "outputs": [
    {
     "data": {
      "text/plain": [
       "[0, None, 2, None, None, 5, None, 7, None]"
      ]
     },
     "execution_count": 139,
     "metadata": {},
     "output_type": "execute_result"
    }
   ],
   "source": [
    "list(map(lambda x: x[0] if '2' in x[1] else None, enumerate(b.rows)))"
   ]
  },
  {
   "cell_type": "code",
   "execution_count": 154,
   "id": "2de4978b-0180-489f-9a64-65debad0f8c3",
   "metadata": {},
   "outputs": [
    {
     "data": {
      "text/plain": [
       "[0, 2, 3, 6]"
      ]
     },
     "execution_count": 154,
     "metadata": {},
     "output_type": "execute_result"
    }
   ],
   "source": [
    "b.get_boxes_containing_digit('2')"
   ]
  },
  {
   "cell_type": "code",
   "execution_count": 133,
   "id": "b7963e1d-0902-49c7-ac3f-3e406e0fe038",
   "metadata": {},
   "outputs": [
    {
     "data": {
      "text/plain": [
       "[(0, ['2', '0', '0', '0', '8', '0', '3', '0', '0']),\n",
       " (1, ['0', '6', '0', '0', '7', '0', '0', '8', '4']),\n",
       " (2, ['0', '3', '0', '5', '0', '0', '2', '0', '9']),\n",
       " (3, ['0', '0', '0', '1', '0', '5', '4', '0', '8']),\n",
       " (4, ['0', '0', '0', '0', '0', '0', '0', '0', '0']),\n",
       " (5, ['4', '0', '2', '7', '0', '6', '0', '0', '0']),\n",
       " (6, ['3', '0', '1', '0', '0', '7', '0', '4', '0']),\n",
       " (7, ['7', '2', '0', '0', '4', '0', '0', '6', '0']),\n",
       " (8, ['0', '0', '4', '0', '1', '0', '0', '0', '3'])]"
      ]
     },
     "execution_count": 133,
     "metadata": {},
     "output_type": "execute_result"
    }
   ],
   "source": [
    "list(enumerate(b.rows))"
   ]
  },
  {
   "cell_type": "code",
   "execution_count": 39,
   "id": "b0976ec6-6ba2-4e90-9a28-73404dd80410",
   "metadata": {},
   "outputs": [
    {
     "data": {
      "text/plain": [
       "{(0, 3): {'4', '9'},\n",
       " (1, 2): {'5', '9'},\n",
       " (1, 6): {'1', '5'},\n",
       " (2, 0): {'1', '8'},\n",
       " (2, 2): {'7', '8'},\n",
       " (2, 5): {'1', '4'},\n",
       " (2, 7): {'1', '7'},\n",
       " (3, 0): {'6', '9'},\n",
       " (3, 1): {'7', '9'},\n",
       " (5, 4): {'3', '9'},\n",
       " (5, 8): {'1', '5'},\n",
       " (6, 8): {'2', '5'},\n",
       " (7, 8): {'1', '5'}}"
      ]
     },
     "execution_count": 39,
     "metadata": {},
     "output_type": "execute_result"
    }
   ],
   "source": [
    "b.get_two_candidate_squares()"
   ]
  },
  {
   "cell_type": "code",
   "execution_count": 44,
   "id": "addd9313-66f9-4674-aa2d-ff9e79fd8a8e",
   "metadata": {},
   "outputs": [],
   "source": [
    "b.set_square((0,3), 9)"
   ]
  },
  {
   "cell_type": "code",
   "execution_count": 45,
   "id": "e3aa95df-2d82-4b4e-b59f-9f41b7465a04",
   "metadata": {},
   "outputs": [],
   "source": [
    "b.update_candidate_notes()"
   ]
  },
  {
   "cell_type": "code",
   "execution_count": 40,
   "id": "c58a2b95-7e02-411d-9261-e91bc660b8f3",
   "metadata": {},
   "outputs": [
    {
     "data": {
      "text/plain": [
       "{'4', '9'}"
      ]
     },
     "execution_count": 40,
     "metadata": {},
     "output_type": "execute_result"
    }
   ],
   "source": [
    "b.empty_squares.pop((0,3))"
   ]
  },
  {
   "cell_type": "code",
   "execution_count": null,
   "id": "be14d736-d259-48f2-a830-1f1304710373",
   "metadata": {},
   "outputs": [],
   "source": [
    "print(''.join(b.rows[0]))"
   ]
  },
  {
   "cell_type": "code",
   "execution_count": null,
   "id": "08d0d949-e7b3-4f64-9db9-95734a6515bc",
   "metadata": {},
   "outputs": [],
   "source": [
    "# print(f'{b.name}\\n' + '\\n'.join(list(map(lambda r: ''.join(r), b.rows))))\n",
    "print(b.export_boardstring())"
   ]
  },
  {
   "cell_type": "code",
   "execution_count": null,
   "id": "91ef80e3-319a-4cba-956e-d42000e36b59",
   "metadata": {},
   "outputs": [],
   "source": [
    "#for sq in b.empty_squares:\n",
    "#    b.calc_candidates(sq)\n",
    "#b.update_candidate_notes()\n",
    "hash_count(list(map(len, b.empty_squares.values())), sort=True)"
   ]
  },
  {
   "cell_type": "code",
   "execution_count": null,
   "id": "f0dac5ac-bac0-43e2-805a-2ff28461dfc6",
   "metadata": {},
   "outputs": [],
   "source": [
    "print(len(b.empty_squares))"
   ]
  },
  {
   "cell_type": "code",
   "execution_count": null,
   "id": "3fba1d86-175f-4945-9cdb-0e1996f2431b",
   "metadata": {},
   "outputs": [],
   "source": [
    "b.fill_in_solved_squares()"
   ]
  },
  {
   "cell_type": "code",
   "execution_count": null,
   "id": "16ec8e89-baaf-46ba-b82e-21bccd2c4c54",
   "metadata": {},
   "outputs": [],
   "source": [
    "print(b)"
   ]
  },
  {
   "cell_type": "code",
   "execution_count": null,
   "id": "14955faf-0377-4a43-8a6e-c9668dd147cf",
   "metadata": {},
   "outputs": [],
   "source": [
    "b.empty_squares"
   ]
  },
  {
   "cell_type": "code",
   "execution_count": null,
   "id": "59972000-db92-494c-b121-112f90f13689",
   "metadata": {},
   "outputs": [],
   "source": [
    "res = {key : val for key, val in b.empty_squares.items()\n",
    "                   if len(val)==1}\n",
    "res"
   ]
  },
  {
   "cell_type": "code",
   "execution_count": 22,
   "id": "47be0997-ed4f-4c65-a551-8a413db7a60f",
   "metadata": {},
   "outputs": [
    {
     "name": "stdout",
     "output_type": "stream",
     "text": [
      "Grid 01\n",
      "49 squares open. Candidates per square summary: {1: 3, 2: 14, 3: 10, 4: 13, 5: 8, 6: 1}\n",
      "46 squares open. Candidates per square summary: {1: 5, 2: 13, 3: 12, 4: 11, 5: 5}\n",
      "41 squares open. Candidates per square summary: {1: 10, 2: 7, 3: 15, 4: 5, 5: 4}\n",
      "31 squares open. Candidates per square summary: {1: 5, 2: 15, 3: 4, 4: 6, 5: 1}\n",
      "26 squares open. Candidates per square summary: {1: 3, 2: 14, 3: 5, 4: 3, 5: 1}\n",
      "23 squares open. Candidates per square summary: {1: 3, 2: 12, 3: 6, 4: 2}\n",
      "20 squares open. Candidates per square summary: {1: 3, 2: 11, 3: 6}\n",
      "17 squares open. Candidates per square summary: {1: 5, 2: 10, 3: 2}\n",
      "12 squares open. Candidates per square summary: {1: 10, 2: 2}\n",
      "2 squares open. Candidates per square summary: {1: 2}\n",
      "0 squares open. Candidates per square summary: {}\n",
      "Grid 02\n",
      "51 squares open. Candidates per square summary: {1: 1, 2: 12, 3: 16, 4: 13, 5: 7, 6: 2}\n",
      "50 squares open. Candidates per square summary: {2: 13, 3: 16, 4: 12, 5: 7, 6: 2}\n",
      "Grid 03\n",
      "53 squares open. Candidates per square summary: {1: 1, 2: 6, 3: 16, 4: 20, 5: 8, 6: 2}\n",
      "52 squares open. Candidates per square summary: {1: 1, 2: 6, 3: 20, 4: 17, 5: 7, 6: 1}\n",
      "51 squares open. Candidates per square summary: {1: 1, 2: 7, 3: 19, 4: 19, 5: 4, 6: 1}\n",
      "50 squares open. Candidates per square summary: {2: 7, 3: 22, 4: 17, 5: 3, 6: 1}\n",
      "Grid 04\n",
      "51 squares open. Candidates per square summary: {1: 2, 2: 8, 3: 20, 4: 16, 5: 5}\n",
      "49 squares open. Candidates per square summary: {1: 1, 2: 13, 3: 16, 4: 15, 5: 4}\n",
      "48 squares open. Candidates per square summary: {1: 1, 2: 13, 3: 15, 4: 16, 5: 3}\n",
      "47 squares open. Candidates per square summary: {2: 13, 3: 17, 4: 16, 5: 1}\n",
      "Grid 05\n",
      "45 squares open. Candidates per square summary: {1: 10, 2: 25, 3: 9, 4: 1}\n",
      "35 squares open. Candidates per square summary: {1: 12, 2: 22, 3: 1}\n",
      "23 squares open. Candidates per square summary: {1: 12, 2: 11}\n",
      "11 squares open. Candidates per square summary: {1: 9, 2: 2}\n",
      "2 squares open. Candidates per square summary: {1: 2}\n",
      "0 squares open. Candidates per square summary: {}\n",
      "Grid 06\n",
      "57 squares open. Candidates per square summary: {2: 4, 3: 18, 4: 22, 5: 7, 6: 6}\n",
      "57 squares open. Candidates per square summary: {2: 4, 3: 18, 4: 22, 5: 7, 6: 6}\n",
      "Grid 07\n",
      "55 squares open. Candidates per square summary: {1: 2, 2: 11, 3: 18, 4: 13, 5: 9, 6: 2}\n",
      "53 squares open. Candidates per square summary: {2: 14, 3: 15, 4: 15, 5: 7, 6: 2}\n",
      "Grid 08\n",
      "45 squares open. Candidates per square summary: {1: 4, 2: 23, 3: 15, 4: 3}\n",
      "41 squares open. Candidates per square summary: {1: 9, 2: 23, 3: 7, 4: 2}\n",
      "32 squares open. Candidates per square summary: {1: 10, 2: 21, 3: 1}\n",
      "22 squares open. Candidates per square summary: {1: 8, 2: 14}\n",
      "14 squares open. Candidates per square summary: {1: 9, 2: 5}\n",
      "5 squares open. Candidates per square summary: {1: 5}\n",
      "0 squares open. Candidates per square summary: {}\n",
      "Grid 09\n",
      "55 squares open. Candidates per square summary: {2: 6, 3: 19, 4: 15, 5: 13, 6: 2}\n",
      "55 squares open. Candidates per square summary: {2: 6, 3: 19, 4: 15, 5: 13, 6: 2}\n",
      "Grid 10\n",
      "53 squares open. Candidates per square summary: {2: 8, 3: 20, 4: 19, 5: 5, 6: 1}\n",
      "53 squares open. Candidates per square summary: {2: 8, 3: 20, 4: 19, 5: 5, 6: 1}\n",
      "Grid 11\n",
      "53 squares open. Candidates per square summary: {1: 1, 2: 10, 3: 17, 4: 15, 5: 8, 6: 2}\n",
      "52 squares open. Candidates per square summary: {2: 11, 3: 18, 4: 16, 5: 5, 6: 2}\n",
      "Grid 12\n",
      "49 squares open. Candidates per square summary: {1: 2, 2: 10, 3: 20, 4: 15, 5: 2}\n",
      "47 squares open. Candidates per square summary: {1: 2, 2: 11, 3: 19, 4: 13, 5: 2}\n",
      "45 squares open. Candidates per square summary: {1: 1, 2: 12, 3: 22, 4: 9, 5: 1}\n",
      "44 squares open. Candidates per square summary: {1: 1, 2: 13, 3: 20, 4: 9, 5: 1}\n",
      "43 squares open. Candidates per square summary: {1: 1, 2: 14, 3: 18, 4: 9, 5: 1}\n",
      "42 squares open. Candidates per square summary: {1: 4, 2: 12, 3: 16, 4: 9, 5: 1}\n",
      "38 squares open. Candidates per square summary: {1: 3, 2: 11, 3: 16, 4: 8}\n",
      "35 squares open. Candidates per square summary: {1: 3, 2: 12, 3: 14, 4: 6}\n",
      "32 squares open. Candidates per square summary: {1: 4, 2: 9, 3: 16, 4: 3}\n",
      "28 squares open. Candidates per square summary: {1: 3, 2: 15, 3: 10}\n",
      "25 squares open. Candidates per square summary: {1: 3, 2: 16, 3: 6}\n",
      "22 squares open. Candidates per square summary: {1: 6, 2: 14, 3: 2}\n",
      "16 squares open. Candidates per square summary: {1: 5, 2: 10, 3: 1}\n",
      "11 squares open. Candidates per square summary: {1: 2, 2: 8, 3: 1}\n",
      "9 squares open. Candidates per square summary: {1: 3, 2: 6}\n",
      "6 squares open. Candidates per square summary: {1: 4, 2: 2}\n",
      "2 squares open. Candidates per square summary: {1: 2}\n",
      "0 squares open. Candidates per square summary: {}\n",
      "Grid 13\n",
      "54 squares open. Candidates per square summary: {1: 2, 2: 8, 3: 21, 4: 14, 5: 7, 6: 2}\n",
      "52 squares open. Candidates per square summary: {1: 3, 2: 9, 3: 20, 4: 12, 5: 6, 6: 2}\n",
      "49 squares open. Candidates per square summary: {1: 2, 2: 11, 3: 21, 4: 7, 5: 6, 6: 2}\n",
      "47 squares open. Candidates per square summary: {1: 2, 2: 12, 3: 18, 4: 8, 5: 5, 6: 2}\n",
      "45 squares open. Candidates per square summary: {1: 1, 2: 14, 3: 16, 4: 9, 5: 5}\n",
      "44 squares open. Candidates per square summary: {1: 1, 2: 15, 3: 14, 4: 9, 5: 5}\n",
      "43 squares open. Candidates per square summary: {1: 1, 2: 14, 3: 14, 4: 9, 5: 5}\n",
      "42 squares open. Candidates per square summary: {1: 1, 2: 13, 3: 14, 4: 9, 5: 5}\n",
      "41 squares open. Candidates per square summary: {1: 1, 2: 14, 3: 12, 4: 9, 5: 5}\n",
      "40 squares open. Candidates per square summary: {1: 1, 2: 14, 3: 12, 4: 8, 5: 5}\n",
      "39 squares open. Candidates per square summary: {1: 2, 2: 14, 3: 11, 4: 8, 5: 4}\n",
      "37 squares open. Candidates per square summary: {2: 17, 3: 9, 4: 7, 5: 4}\n",
      "Grid 14\n",
      "54 squares open. Candidates per square summary: {2: 7, 3: 22, 4: 15, 5: 10}\n",
      "54 squares open. Candidates per square summary: {2: 7, 3: 22, 4: 15, 5: 10}\n",
      "Grid 15\n",
      "55 squares open. Candidates per square summary: {1: 4, 2: 8, 3: 10, 4: 18, 5: 12, 6: 3}\n",
      "51 squares open. Candidates per square summary: {1: 2, 2: 16, 3: 10, 4: 16, 5: 5, 6: 2}\n",
      "49 squares open. Candidates per square summary: {1: 5, 2: 15, 3: 7, 4: 16, 5: 4, 6: 2}\n",
      "44 squares open. Candidates per square summary: {1: 7, 2: 13, 3: 8, 4: 11, 5: 5}\n",
      "37 squares open. Candidates per square summary: {1: 4, 2: 12, 3: 10, 4: 10, 5: 1}\n",
      "33 squares open. Candidates per square summary: {1: 3, 2: 14, 3: 10, 4: 5, 5: 1}\n",
      "30 squares open. Candidates per square summary: {2: 17, 3: 7, 4: 5, 5: 1}\n",
      "Grid 16\n",
      "45 squares open. Candidates per square summary: {1: 20, 2: 19, 3: 5, 4: 1}\n",
      "25 squares open. Candidates per square summary: {1: 12, 2: 13}\n",
      "13 squares open. Candidates per square summary: {1: 6, 2: 7}\n",
      "7 squares open. Candidates per square summary: {1: 3, 2: 4}\n",
      "4 squares open. Candidates per square summary: {1: 4}\n",
      "0 squares open. Candidates per square summary: {}\n",
      "Grid 17\n",
      "45 squares open. Candidates per square summary: {1: 12, 2: 19, 3: 12, 4: 2}\n",
      "33 squares open. Candidates per square summary: {1: 15, 2: 16, 3: 2}\n",
      "18 squares open. Candidates per square summary: {1: 16, 2: 2}\n",
      "2 squares open. Candidates per square summary: {1: 2}\n",
      "0 squares open. Candidates per square summary: {}\n",
      "Grid 18\n",
      "52 squares open. Candidates per square summary: {1: 1, 2: 10, 3: 22, 4: 17, 5: 2}\n",
      "51 squares open. Candidates per square summary: {1: 1, 2: 11, 3: 22, 4: 15, 5: 2}\n",
      "50 squares open. Candidates per square summary: {1: 1, 2: 11, 3: 23, 4: 13, 5: 2}\n",
      "49 squares open. Candidates per square summary: {1: 1, 2: 12, 3: 22, 4: 12, 5: 2}\n",
      "48 squares open. Candidates per square summary: {1: 1, 2: 13, 3: 20, 4: 14}\n",
      "47 squares open. Candidates per square summary: {2: 13, 3: 22, 4: 12}\n",
      "Grid 19\n",
      "49 squares open. Candidates per square summary: {1: 2, 2: 9, 3: 21, 4: 13, 5: 4}\n",
      "47 squares open. Candidates per square summary: {1: 2, 2: 14, 3: 15, 4: 12, 5: 4}\n",
      "45 squares open. Candidates per square summary: {1: 4, 2: 14, 3: 14, 4: 10, 5: 3}\n",
      "41 squares open. Candidates per square summary: {1: 4, 2: 12, 3: 17, 4: 6, 5: 2}\n",
      "37 squares open. Candidates per square summary: {1: 5, 2: 14, 3: 10, 4: 7, 5: 1}\n",
      "32 squares open. Candidates per square summary: {1: 4, 2: 16, 3: 8, 4: 3, 5: 1}\n",
      "28 squares open. Candidates per square summary: {1: 1, 2: 17, 3: 6, 4: 4}\n",
      "27 squares open. Candidates per square summary: {1: 3, 2: 16, 3: 7, 4: 1}\n",
      "24 squares open. Candidates per square summary: {1: 5, 2: 15, 3: 3, 4: 1}\n",
      "19 squares open. Candidates per square summary: {1: 8, 2: 9, 3: 1, 4: 1}\n",
      "11 squares open. Candidates per square summary: {1: 6, 2: 5}\n",
      "5 squares open. Candidates per square summary: {1: 5}\n",
      "0 squares open. Candidates per square summary: {}\n",
      "Grid 20\n",
      "49 squares open. Candidates per square summary: {1: 2, 2: 13, 3: 13, 4: 12, 5: 9}\n",
      "47 squares open. Candidates per square summary: {1: 3, 2: 15, 3: 11, 4: 13, 5: 5}\n",
      "44 squares open. Candidates per square summary: {1: 1, 2: 17, 3: 14, 4: 11, 5: 1}\n",
      "43 squares open. Candidates per square summary: {1: 2, 2: 17, 3: 14, 4: 10}\n",
      "41 squares open. Candidates per square summary: {1: 4, 2: 17, 3: 11, 4: 9}\n",
      "37 squares open. Candidates per square summary: {1: 8, 2: 11, 3: 9, 4: 9}\n",
      "29 squares open. Candidates per square summary: {1: 6, 2: 9, 3: 12, 4: 2}\n",
      "23 squares open. Candidates per square summary: {1: 6, 2: 13, 3: 4}\n",
      "17 squares open. Candidates per square summary: {1: 5, 2: 9, 3: 3}\n",
      "12 squares open. Candidates per square summary: {1: 6, 2: 6}\n",
      "6 squares open. Candidates per square summary: {1: 6}\n",
      "0 squares open. Candidates per square summary: {}\n",
      "Grid 21\n",
      "51 squares open. Candidates per square summary: {1: 1, 2: 14, 3: 13, 4: 13, 5: 9, 6: 1}\n",
      "50 squares open. Candidates per square summary: {1: 1, 2: 15, 3: 13, 4: 12, 5: 8, 6: 1}\n",
      "49 squares open. Candidates per square summary: {2: 15, 3: 13, 4: 13, 5: 7, 6: 1}\n",
      "Grid 22\n",
      "55 squares open. Candidates per square summary: {1: 1, 2: 8, 3: 14, 4: 24, 5: 6, 6: 2}\n",
      "54 squares open. Candidates per square summary: {1: 1, 2: 9, 3: 16, 4: 20, 5: 6, 6: 2}\n",
      "53 squares open. Candidates per square summary: {1: 3, 2: 7, 3: 17, 4: 18, 5: 6, 6: 2}\n",
      "50 squares open. Candidates per square summary: {1: 2, 2: 10, 3: 23, 4: 12, 5: 2, 6: 1}\n",
      "48 squares open. Candidates per square summary: {1: 2, 2: 10, 3: 24, 4: 10, 5: 1, 6: 1}\n",
      "46 squares open. Candidates per square summary: {1: 2, 2: 9, 3: 24, 4: 9, 5: 1, 6: 1}\n",
      "44 squares open. Candidates per square summary: {2: 9, 3: 28, 4: 6, 5: 1}\n",
      "Grid 23\n",
      "53 squares open. Candidates per square summary: {1: 3, 2: 6, 3: 20, 4: 15, 5: 7, 6: 2}\n",
      "50 squares open. Candidates per square summary: {1: 2, 2: 14, 3: 15, 4: 11, 5: 6, 6: 2}\n",
      "48 squares open. Candidates per square summary: {1: 2, 2: 18, 3: 12, 4: 10, 5: 5, 6: 1}\n",
      "46 squares open. Candidates per square summary: {1: 2, 2: 16, 3: 15, 4: 7, 5: 5, 6: 1}\n",
      "44 squares open. Candidates per square summary: {1: 1, 2: 16, 3: 15, 4: 7, 5: 4, 6: 1}\n",
      "43 squares open. Candidates per square summary: {1: 1, 2: 16, 3: 14, 4: 7, 5: 4, 6: 1}\n",
      "42 squares open. Candidates per square summary: {1: 1, 2: 16, 3: 13, 4: 7, 5: 4, 6: 1}\n",
      "41 squares open. Candidates per square summary: {1: 1, 2: 15, 3: 13, 4: 7, 5: 4, 6: 1}\n",
      "40 squares open. Candidates per square summary: {1: 1, 2: 14, 3: 13, 4: 8, 5: 4}\n",
      "39 squares open. Candidates per square summary: {2: 14, 3: 13, 4: 8, 5: 4}\n",
      "Grid 24\n",
      "55 squares open. Candidates per square summary: {1: 3, 2: 7, 3: 11, 4: 16, 5: 11, 6: 7}\n",
      "52 squares open. Candidates per square summary: {1: 2, 2: 10, 3: 18, 4: 11, 5: 8, 6: 3}\n",
      "50 squares open. Candidates per square summary: {1: 1, 2: 14, 3: 16, 4: 11, 5: 7, 6: 1}\n",
      "49 squares open. Candidates per square summary: {1: 1, 2: 14, 3: 15, 4: 13, 5: 5, 6: 1}\n",
      "48 squares open. Candidates per square summary: {1: 1, 2: 13, 3: 17, 4: 12, 5: 4, 6: 1}\n",
      "47 squares open. Candidates per square summary: {1: 1, 2: 13, 3: 18, 4: 11, 5: 4}\n",
      "46 squares open. Candidates per square summary: {1: 2, 2: 13, 3: 17, 4: 10, 5: 4}\n",
      "44 squares open. Candidates per square summary: {1: 3, 2: 14, 3: 14, 4: 10, 5: 3}\n",
      "41 squares open. Candidates per square summary: {2: 16, 3: 15, 4: 8, 5: 2}\n",
      "Grid 25\n",
      "53 squares open. Candidates per square summary: {1: 1, 2: 5, 3: 18, 4: 15, 5: 6, 6: 8}\n",
      "52 squares open. Candidates per square summary: {2: 9, 3: 17, 4: 15, 5: 4, 6: 7}\n",
      "Grid 26\n",
      "57 squares open. Candidates per square summary: {1: 1, 2: 3, 3: 15, 4: 24, 5: 12, 6: 2}\n",
      "56 squares open. Candidates per square summary: {1: 1, 2: 3, 3: 20, 4: 18, 5: 13, 6: 1}\n",
      "55 squares open. Candidates per square summary: {2: 5, 3: 20, 4: 18, 5: 12}\n",
      "Grid 27\n",
      "54 squares open. Candidates per square summary: {1: 1, 2: 10, 3: 15, 4: 17, 5: 11}\n",
      "53 squares open. Candidates per square summary: {1: 1, 2: 10, 3: 21, 4: 11, 5: 10}\n",
      "52 squares open. Candidates per square summary: {1: 1, 2: 12, 3: 20, 4: 10, 5: 9}\n",
      "51 squares open. Candidates per square summary: {1: 1, 2: 14, 3: 19, 4: 10, 5: 7}\n",
      "50 squares open. Candidates per square summary: {2: 15, 3: 19, 4: 11, 5: 5}\n",
      "Grid 28\n",
      "53 squares open. Candidates per square summary: {1: 1, 2: 9, 3: 16, 4: 12, 5: 9, 6: 4, 7: 2}\n",
      "52 squares open. Candidates per square summary: {1: 1, 2: 10, 3: 14, 4: 13, 5: 9, 6: 5}\n",
      "51 squares open. Candidates per square summary: {1: 2, 2: 10, 3: 15, 4: 10, 5: 9, 6: 5}\n",
      "49 squares open. Candidates per square summary: {1: 2, 2: 12, 3: 11, 4: 14, 5: 5, 6: 5}\n",
      "47 squares open. Candidates per square summary: {1: 4, 2: 10, 3: 10, 4: 15, 5: 5, 6: 3}\n",
      "43 squares open. Candidates per square summary: {1: 1, 2: 12, 3: 12, 4: 12, 5: 3, 6: 3}\n",
      "42 squares open. Candidates per square summary: {2: 12, 3: 14, 4: 10, 5: 3, 6: 3}\n",
      "Grid 29\n",
      "54 squares open. Candidates per square summary: {2: 7, 3: 14, 4: 19, 5: 12, 6: 1, 7: 1}\n",
      "54 squares open. Candidates per square summary: {2: 7, 3: 14, 4: 19, 5: 12, 6: 1, 7: 1}\n",
      "Grid 30\n",
      "55 squares open. Candidates per square summary: {1: 1, 2: 6, 3: 18, 4: 22, 5: 6, 6: 2}\n",
      "54 squares open. Candidates per square summary: {2: 8, 3: 18, 4: 20, 5: 6, 6: 2}\n",
      "Grid 31\n",
      "56 squares open. Candidates per square summary: {1: 1, 2: 5, 3: 15, 4: 17, 5: 13, 6: 5}\n",
      "55 squares open. Candidates per square summary: {1: 1, 2: 5, 3: 15, 4: 17, 5: 12, 6: 5}\n",
      "54 squares open. Candidates per square summary: {2: 7, 3: 15, 4: 15, 5: 13, 6: 4}\n",
      "Grid 32\n",
      "55 squares open. Candidates per square summary: {1: 2, 2: 4, 3: 12, 4: 25, 5: 8, 6: 4}\n",
      "53 squares open. Candidates per square summary: {1: 1, 2: 8, 3: 13, 4: 25, 5: 2, 6: 4}\n",
      "52 squares open. Candidates per square summary: {1: 1, 2: 9, 3: 13, 4: 23, 5: 2, 6: 4}\n",
      "51 squares open. Candidates per square summary: {1: 1, 2: 9, 3: 17, 4: 19, 5: 2, 6: 3}\n",
      "50 squares open. Candidates per square summary: {1: 1, 2: 8, 3: 17, 4: 19, 5: 2, 6: 3}\n",
      "49 squares open. Candidates per square summary: {2: 9, 3: 18, 4: 18, 5: 2, 6: 2}\n",
      "Grid 33\n",
      "49 squares open. Candidates per square summary: {2: 16, 3: 26, 4: 7}\n",
      "49 squares open. Candidates per square summary: {2: 16, 3: 26, 4: 7}\n",
      "Grid 34\n",
      "50 squares open. Candidates per square summary: {1: 3, 2: 15, 3: 22, 4: 8, 5: 2}\n",
      "47 squares open. Candidates per square summary: {1: 5, 2: 13, 3: 19, 4: 10}\n",
      "42 squares open. Candidates per square summary: {1: 7, 2: 14, 3: 16, 4: 5}\n",
      "35 squares open. Candidates per square summary: {1: 5, 2: 15, 3: 11, 4: 4}\n",
      "30 squares open. Candidates per square summary: {1: 6, 2: 13, 3: 8, 4: 3}\n",
      "24 squares open. Candidates per square summary: {1: 2, 2: 14, 3: 7, 4: 1}\n",
      "22 squares open. Candidates per square summary: {1: 5, 2: 15, 3: 2}\n",
      "17 squares open. Candidates per square summary: {1: 14, 2: 3}\n",
      "3 squares open. Candidates per square summary: {1: 3}\n",
      "0 squares open. Candidates per square summary: {}\n",
      "Grid 35\n",
      "51 squares open. Candidates per square summary: {1: 2, 2: 11, 3: 18, 4: 18, 5: 2}\n",
      "49 squares open. Candidates per square summary: {1: 1, 2: 14, 3: 16, 4: 16, 5: 2}\n",
      "48 squares open. Candidates per square summary: {1: 2, 2: 13, 3: 15, 4: 16, 5: 2}\n",
      "46 squares open. Candidates per square summary: {2: 14, 3: 14, 4: 16, 5: 2}\n",
      "Grid 36\n",
      "49 squares open. Candidates per square summary: {1: 5, 2: 18, 3: 14, 4: 10, 5: 2}\n",
      "44 squares open. Candidates per square summary: {1: 6, 2: 15, 3: 17, 4: 6}\n",
      "38 squares open. Candidates per square summary: {1: 12, 2: 12, 3: 8, 4: 6}\n",
      "26 squares open. Candidates per square summary: {1: 9, 2: 12, 3: 3, 4: 2}\n",
      "17 squares open. Candidates per square summary: {1: 8, 2: 8, 3: 1}\n",
      "9 squares open. Candidates per square summary: {1: 7, 2: 2}\n",
      "2 squares open. Candidates per square summary: {1: 2}\n",
      "0 squares open. Candidates per square summary: {}\n",
      "Grid 37\n",
      "49 squares open. Candidates per square summary: {2: 12, 3: 23, 4: 13, 5: 1}\n",
      "49 squares open. Candidates per square summary: {2: 12, 3: 23, 4: 13, 5: 1}\n",
      "Grid 38\n",
      "51 squares open. Candidates per square summary: {1: 4, 2: 9, 3: 21, 4: 17}\n",
      "47 squares open. Candidates per square summary: {1: 3, 2: 14, 3: 22, 4: 8}\n",
      "44 squares open. Candidates per square summary: {1: 5, 2: 16, 3: 19, 4: 4}\n",
      "39 squares open. Candidates per square summary: {1: 5, 2: 15, 3: 17, 4: 2}\n",
      "34 squares open. Candidates per square summary: {1: 5, 2: 20, 3: 8, 4: 1}\n",
      "29 squares open. Candidates per square summary: {1: 7, 2: 17, 3: 5}\n",
      "22 squares open. Candidates per square summary: {1: 5, 2: 13, 3: 4}\n",
      "17 squares open. Candidates per square summary: {1: 7, 2: 9, 3: 1}\n",
      "10 squares open. Candidates per square summary: {1: 4, 2: 6}\n",
      "6 squares open. Candidates per square summary: {1: 4, 2: 2}\n",
      "2 squares open. Candidates per square summary: {1: 2}\n",
      "0 squares open. Candidates per square summary: {}\n",
      "Grid 39\n",
      "51 squares open. Candidates per square summary: {1: 2, 2: 15, 3: 19, 4: 9, 5: 4, 6: 2}\n",
      "49 squares open. Candidates per square summary: {1: 3, 2: 18, 3: 17, 4: 5, 5: 4, 6: 2}\n",
      "46 squares open. Candidates per square summary: {1: 1, 2: 19, 3: 16, 4: 7, 5: 1, 6: 2}\n",
      "45 squares open. Candidates per square summary: {2: 23, 3: 14, 4: 5, 5: 1, 6: 2}\n",
      "Grid 40\n",
      "49 squares open. Candidates per square summary: {1: 4, 2: 11, 3: 22, 4: 10, 5: 2}\n",
      "45 squares open. Candidates per square summary: {1: 3, 2: 15, 3: 21, 4: 4, 5: 2}\n",
      "42 squares open. Candidates per square summary: {1: 4, 2: 17, 3: 17, 4: 4}\n",
      "38 squares open. Candidates per square summary: {1: 6, 2: 13, 3: 16, 4: 3}\n",
      "32 squares open. Candidates per square summary: {1: 7, 2: 15, 3: 10}\n",
      "25 squares open. Candidates per square summary: {1: 11, 2: 9, 3: 5}\n",
      "14 squares open. Candidates per square summary: {1: 7, 2: 7}\n",
      "7 squares open. Candidates per square summary: {1: 5, 2: 2}\n",
      "2 squares open. Candidates per square summary: {1: 2}\n",
      "0 squares open. Candidates per square summary: {}\n",
      "Grid 41\n",
      "55 squares open. Candidates per square summary: {2: 6, 3: 19, 4: 15, 5: 13, 6: 2}\n",
      "55 squares open. Candidates per square summary: {2: 6, 3: 19, 4: 15, 5: 13, 6: 2}\n",
      "Grid 42\n",
      "55 squares open. Candidates per square summary: {2: 10, 3: 15, 4: 25, 5: 5}\n",
      "55 squares open. Candidates per square summary: {2: 10, 3: 15, 4: 25, 5: 5}\n",
      "Grid 43\n",
      "55 squares open. Candidates per square summary: {1: 2, 2: 6, 3: 21, 4: 9, 5: 11, 6: 6}\n",
      "53 squares open. Candidates per square summary: {2: 16, 3: 15, 4: 8, 5: 10, 6: 4}\n",
      "Grid 44\n",
      "57 squares open. Candidates per square summary: {2: 6, 3: 17, 4: 25, 5: 8, 6: 1}\n",
      "57 squares open. Candidates per square summary: {2: 6, 3: 17, 4: 25, 5: 8, 6: 1}\n",
      "Grid 45\n",
      "55 squares open. Candidates per square summary: {1: 1, 2: 11, 3: 13, 4: 14, 5: 13, 6: 3}\n",
      "54 squares open. Candidates per square summary: {1: 1, 2: 11, 3: 14, 4: 13, 5: 12, 6: 3}\n",
      "53 squares open. Candidates per square summary: {2: 16, 3: 10, 4: 14, 5: 11, 6: 2}\n",
      "Grid 46\n",
      "57 squares open. Candidates per square summary: {2: 6, 3: 15, 4: 18, 5: 12, 6: 6}\n",
      "57 squares open. Candidates per square summary: {2: 6, 3: 15, 4: 18, 5: 12, 6: 6}\n",
      "Grid 47\n",
      "58 squares open. Candidates per square summary: {2: 2, 3: 15, 4: 26, 5: 13, 6: 2}\n",
      "58 squares open. Candidates per square summary: {2: 2, 3: 15, 4: 26, 5: 13, 6: 2}\n",
      "Grid 48\n",
      "56 squares open. Candidates per square summary: {2: 6, 3: 12, 4: 27, 5: 10, 6: 1}\n",
      "56 squares open. Candidates per square summary: {2: 6, 3: 12, 4: 27, 5: 10, 6: 1}\n",
      "Grid 49\n",
      "59 squares open. Candidates per square summary: {2: 6, 3: 7, 4: 26, 5: 13, 6: 6, 7: 1}\n",
      "59 squares open. Candidates per square summary: {2: 6, 3: 7, 4: 26, 5: 13, 6: 6, 7: 1}\n",
      "Grid 50\n",
      "56 squares open. Candidates per square summary: {1: 1, 2: 7, 3: 15, 4: 24, 5: 7, 6: 2}\n",
      "55 squares open. Candidates per square summary: {1: 1, 2: 8, 3: 15, 4: 22, 5: 7, 6: 2}\n",
      "54 squares open. Candidates per square summary: {2: 12, 3: 13, 4: 20, 5: 7, 6: 2}\n"
     ]
    }
   ],
   "source": [
    "for chunk in boardchunks:\n",
    "    b = Board(chunk)\n",
    "    b.forward_solve()\n",
    "    print(b.name)\n",
    "    for logline in b.solve_log:\n",
    "        print(logline)\n",
    "    "
   ]
  },
  {
   "cell_type": "code",
   "execution_count": null,
   "id": "5c7f7fb4-e949-46b8-8f81-cab0b60a1377",
   "metadata": {},
   "outputs": [],
   "source": []
  },
  {
   "cell_type": "code",
   "execution_count": null,
   "id": "ab4b3da1-5461-4ed8-955d-72a0b32ae3b4",
   "metadata": {},
   "outputs": [],
   "source": [
    "boards = {}\n",
    "\n",
    "key = 'Grid 01'\n",
    "b = []\n",
    "\n",
    "boardlines = 'Grid 01\\n'\n",
    "with open(infile) as f:\n",
    "    for line in f:\n",
    "        linestr = line.rstrip()\n",
    "#        print(linestr)\n",
    "        \n",
    "        if linestr.startswith('Grid'):\n",
    "            boards[key] = b\n",
    "            key = linestr\n",
    "            b = []\n",
    "        else:\n",
    "            linelist = list(linestr)\n",
    "            b.append(linelist)\n",
    "#            print(linelist)\n",
    "boards"
   ]
  },
  {
   "cell_type": "code",
   "execution_count": null,
   "id": "764b2980-a821-4d6e-b161-e2373df063f7",
   "metadata": {},
   "outputs": [],
   "source": [
    "Box 0:\n",
    "[self.rows[0][0:3], self.rows[1][0:3], self.rows[2][0:3] ]\n",
    "Box 1:\n",
    "[self.rows[0][3:6], self.rows[1][3:6], self.rows[2][3:6] ]\n",
    "\n",
    "Box 2:\n",
    "[self.rows[0][6:9], self.rows[1][6:9], self.rows[2][6:9] ]\n",
    "\n",
    "Box 3:\n",
    "[self.rows[3][0:3], self.rows[4][0:3], self.rows[5][0:3] ]\n",
    "\n",
    "Box 6:\n",
    "[self.rows[6][0:3], self.rows[7][0:3], self.rows[8][0:3] ]\n",
    "Box 7:\n",
    "[self.rows[6][3:6], self.rows[7][3:6], self.rows[8][3:6] ]\n"
   ]
  },
  {
   "cell_type": "code",
   "execution_count": null,
   "id": "a278f0e9-3af8-4e48-b77f-b88bc959762a",
   "metadata": {},
   "outputs": [],
   "source": [
    "for box in [0, 1, 2, 3, 4, 5, 6, 7, 8]:\n",
    "#    print(f'box: {box} b_row:{box//3} b_col:{box%3}')\n",
    "    print(f'({box//3}, {box%3}) : {box},')"
   ]
  },
  {
   "cell_type": "code",
   "execution_count": 81,
   "id": "30cef978-25a2-4f5b-8325-d5e41ee2da51",
   "metadata": {},
   "outputs": [
    {
     "data": {
      "text/plain": [
       "[['2', '4', '5', '9', '8', '1', '3', '7', '6'],\n",
       " ['1', '6', '9', '2', '7', '3', '5', '8', '4'],\n",
       " ['8', '3', '7', '5', '6', '4', '2', '1', '9']]"
      ]
     },
     "execution_count": 81,
     "metadata": {},
     "output_type": "execute_result"
    }
   ],
   "source": [
    "b.rows[0:3]"
   ]
  },
  {
   "cell_type": "code",
   "execution_count": 82,
   "id": "9d379ade-46dd-4108-a527-e30571799cc9",
   "metadata": {},
   "outputs": [
    {
     "data": {
      "text/plain": [
       "[['2', '4', '5', '9', '8', '1', '3', '7', '6'],\n",
       " ['1', '6', '9', '2', '7', '3', '5', '8', '4'],\n",
       " ['8', '3', '7', '5', '6', '4', '2', '1', '9'],\n",
       " ['9', '7', '6', '1', '2', '5', '4', '3', '8'],\n",
       " ['5', '1', '3', '4', '9', '8', '6', '2', '7'],\n",
       " ['4', '8', '2', '7', '3', '6', '9', '5', '1'],\n",
       " ['3', '9', '1', '6', '5', '7', '8', '4', '2'],\n",
       " ['7', '2', '8', '3', '4', '9', '1', '6', '5'],\n",
       " ['6', '5', '4', '8', '1', '2', '7', '9', '3']]"
      ]
     },
     "execution_count": 82,
     "metadata": {},
     "output_type": "execute_result"
    }
   ],
   "source": [
    "b.rows"
   ]
  },
  {
   "cell_type": "code",
   "execution_count": 83,
   "id": "672319cb-c98c-4e62-960e-48e437b511ee",
   "metadata": {},
   "outputs": [
    {
     "data": {
      "text/plain": [
       "['9', '7', '6', '5', '1', '3', '4', '8', '2']"
      ]
     },
     "execution_count": 83,
     "metadata": {},
     "output_type": "execute_result"
    }
   ],
   "source": [
    "b.get_box(3)"
   ]
  },
  {
   "cell_type": "code",
   "execution_count": 121,
   "id": "569604c5-ad01-46a5-83e7-a18879ae54f5",
   "metadata": {},
   "outputs": [
    {
     "data": {
      "text/plain": [
       "[['2', '0', '0', '0', '0', '4', '3', '7', '0'],\n",
       " ['0', '6', '3', '0', '0', '0', '0', '2', '0'],\n",
       " ['0', '0', '0', '0', '0', '2', '1', '0', '4'],\n",
       " ['0', '0', '5', '1', '0', '7', '0', '0', '0'],\n",
       " ['8', '7', '6', '0', '0', '0', '0', '4', '1'],\n",
       " ['0', '0', '0', '5', '0', '6', '7', '0', '0'],\n",
       " ['3', '0', '2', '4', '0', '0', '0', '0', '0'],\n",
       " ['0', '8', '0', '0', '0', '0', '4', '6', '0'],\n",
       " ['0', '4', '9', '8', '0', '0', '0', '0', '3']]"
      ]
     },
     "execution_count": 121,
     "metadata": {},
     "output_type": "execute_result"
    }
   ],
   "source": [
    "list(map(lambda x: b.get_col(x), range(0,9)))"
   ]
  },
  {
   "cell_type": "code",
   "execution_count": 128,
   "id": "47d23de3-241d-46cd-a1b9-7b9fb40fb100",
   "metadata": {},
   "outputs": [
    {
     "data": {
      "text/plain": [
       "[['2', '0', '0', '0', '8', '0', '3', '0', '0'],\n",
       " ['0', '6', '0', '0', '7', '0', '0', '8', '4'],\n",
       " ['0', '3', '0', '5', '0', '0', '2', '0', '9'],\n",
       " ['0', '0', '0', '1', '0', '5', '4', '0', '8'],\n",
       " ['0', '0', '0', '0', '0', '0', '0', '0', '0'],\n",
       " ['4', '0', '2', '7', '0', '6', '0', '0', '0'],\n",
       " ['3', '0', '1', '0', '0', '7', '0', '4', '0'],\n",
       " ['7', '2', '0', '0', '4', '0', '0', '6', '0'],\n",
       " ['0', '0', '4', '0', '1', '0', '0', '0', '3']]"
      ]
     },
     "execution_count": 128,
     "metadata": {},
     "output_type": "execute_result"
    }
   ],
   "source": [
    "b.rows"
   ]
  },
  {
   "cell_type": "code",
   "execution_count": 129,
   "id": "fd390acc-022c-4b69-9ae2-c5a39da86775",
   "metadata": {},
   "outputs": [
    {
     "data": {
      "text/plain": [
       "[['2', '0', '0', '0', '8', '0', '3', '0', '0'],\n",
       " ['0', '6', '0', '0', '7', '0', '0', '8', '4'],\n",
       " ['0', '3', '0', '5', '0', '0', '2', '0', '9'],\n",
       " ['0', '0', '0', '1', '0', '5', '4', '0', '8'],\n",
       " ['0', '0', '0', '0', '0', '0', '0', '0', '0'],\n",
       " ['4', '0', '2', '7', '0', '6', '0', '0', '0'],\n",
       " ['3', '0', '1', '0', '0', '7', '0', '4', '0'],\n",
       " ['7', '2', '0', '0', '4', '0', '0', '6', '0'],\n",
       " ['0', '0', '4', '0', '1', '0', '0', '0', '3']]"
      ]
     },
     "execution_count": 129,
     "metadata": {},
     "output_type": "execute_result"
    }
   ],
   "source": [
    "b.get_rows()"
   ]
  },
  {
   "cell_type": "code",
   "execution_count": 130,
   "id": "0bae1004-0011-4566-b4ab-1dc1130bc00c",
   "metadata": {},
   "outputs": [
    {
     "data": {
      "text/plain": [
       "[['2', '0', '0', '0', '0', '4', '3', '7', '0'],\n",
       " ['0', '6', '3', '0', '0', '0', '0', '2', '0'],\n",
       " ['0', '0', '0', '0', '0', '2', '1', '0', '4'],\n",
       " ['0', '0', '5', '1', '0', '7', '0', '0', '0'],\n",
       " ['8', '7', '0', '0', '0', '0', '0', '4', '1'],\n",
       " ['0', '0', '0', '5', '0', '6', '7', '0', '0'],\n",
       " ['3', '0', '2', '4', '0', '0', '0', '0', '0'],\n",
       " ['0', '8', '0', '0', '0', '0', '4', '6', '0'],\n",
       " ['0', '4', '9', '8', '0', '0', '0', '0', '3']]"
      ]
     },
     "execution_count": 130,
     "metadata": {},
     "output_type": "execute_result"
    }
   ],
   "source": [
    "b.get_cols()"
   ]
  },
  {
   "cell_type": "code",
   "execution_count": 131,
   "id": "6d750d5a-8408-4c83-8bc8-32c7d3ca3a84",
   "metadata": {},
   "outputs": [
    {
     "data": {
      "text/plain": [
       "[['2', '0', '0', '0', '6', '0', '0', '3', '0'],\n",
       " ['0', '8', '0', '0', '7', '0', '5', '0', '0'],\n",
       " ['3', '0', '0', '0', '8', '4', '2', '0', '9'],\n",
       " ['0', '0', '0', '0', '0', '0', '4', '0', '2'],\n",
       " ['1', '0', '5', '0', '0', '0', '7', '0', '6'],\n",
       " ['4', '0', '8', '0', '0', '0', '0', '0', '0'],\n",
       " ['3', '0', '1', '7', '2', '0', '0', '0', '4'],\n",
       " ['0', '0', '7', '0', '4', '0', '0', '1', '0'],\n",
       " ['0', '4', '0', '0', '6', '0', '0', '0', '3']]"
      ]
     },
     "execution_count": 131,
     "metadata": {},
     "output_type": "execute_result"
    }
   ],
   "source": [
    "b.get_boxes()"
   ]
  },
  {
   "cell_type": "code",
   "execution_count": null,
   "id": "5669fa6d-41eb-45df-bd2a-ca8787573747",
   "metadata": {},
   "outputs": [],
   "source": []
  }
 ],
 "metadata": {
  "kernelspec": {
   "display_name": "Python 3 (ipykernel)",
   "language": "python",
   "name": "python3"
  },
  "language_info": {
   "codemirror_mode": {
    "name": "ipython",
    "version": 3
   },
   "file_extension": ".py",
   "mimetype": "text/x-python",
   "name": "python",
   "nbconvert_exporter": "python",
   "pygments_lexer": "ipython3",
   "version": "3.11.4"
  }
 },
 "nbformat": 4,
 "nbformat_minor": 5
}
