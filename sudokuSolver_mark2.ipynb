{
 "cells": [
  {
   "cell_type": "code",
   "execution_count": 197,
   "id": "43c4dc69-77a4-45b1-a821-6dfed869d181",
   "metadata": {},
   "outputs": [],
   "source": [
    "import json"
   ]
  },
  {
   "cell_type": "code",
   "execution_count": null,
   "id": "0dcd543f-a4ed-4890-b51e-486dd3729773",
   "metadata": {},
   "outputs": [],
   "source": []
  },
  {
   "cell_type": "code",
   "execution_count": 575,
   "id": "291997d4-7557-4679-a18d-d8c3e41190a1",
   "metadata": {},
   "outputs": [],
   "source": [
    "class Board:\n",
    "\n",
    "    # Class Variable\n",
    "    type = '9x9'\n",
    "\n",
    "    box_map = {(0, 0) : 0,\n",
    "    (0, 1) : 1,\n",
    "    (0, 2) : 2,\n",
    "    (1, 0) : 3,\n",
    "    (1, 1) : 4,\n",
    "    (1, 2) : 5,\n",
    "    (2, 0) : 6,\n",
    "    (2, 1) : 7,\n",
    "    (2, 2) : 8 }\n",
    "\n",
    "    # The init method or constructor\n",
    "    def __init__(self, chunk):\n",
    "        lines = chunk.split('\\n')\n",
    "        # Instance Variables\n",
    "        self.orig_board = chunk\n",
    "        self.name = lines[0]\n",
    "        self.board_map = {}\n",
    "        rows = list(map(list, lines[1:10]))      \n",
    "        # self._init_board_map(rows)\n",
    "        self.empty_squares = {}\n",
    "        self._calc_empties(rows)\n",
    "        self.solve_log = []\n",
    "        \n",
    "        \n",
    "        self.update_candidate_notes()\n",
    "\n",
    "    def __str__(self):\n",
    "        st = f\"{self.name}\\n{self.get_rows()}\"\n",
    "        return st.replace('],', '],\\n')\n",
    "\n",
    "    # def _init_board_map(self, rows):\n",
    "        \n",
    "    def _calc_empties(self, rows):\n",
    "        for r in range(0,9):\n",
    "            row = rows[r] \n",
    "            for c in range(0,9):\n",
    "                self.board_map[(r,c, self.get_box_for_square( (r,c) ))] = row[c]\n",
    "                if row[c] == '0':\n",
    "                    self.empty_squares[(r,c)] = None\n",
    "\n",
    "    def calc_candidates(self, square):\n",
    "        (r,c) = square\n",
    "        cands = set(list('123456789'))\n",
    "        b = self.get_box_for_square(square)\n",
    "        cands = cands.difference(self.get_row(r))\n",
    "        cands = cands.difference(self.get_col(c))\n",
    "        cands = cands.difference(self.get_box(self.get_box_for_square(square)))\n",
    "        self.empty_squares[square] = cands\n",
    "        # if len(cands) > 0:\n",
    "        #     self.empty_squares[square] = cands\n",
    "        # else:\n",
    "        #     del self.empty_squares[square]\n",
    "            \n",
    "    def set_square(self, square, val):\n",
    "        (r, c) = square\n",
    "        # self.get_row(r)[c] = val\n",
    "        # self.rows[r][c] = val\n",
    "        self.board_map[(r, c, self.get_box_for_square((r,c)) )] = val\n",
    "        if (r,c) in self.empty_squares:\n",
    "            # self.empty_squares.pop( (r,c))\n",
    "            del self.empty_squares[ (r,c)]\n",
    "\n",
    "    def get_row(self, n):\n",
    "        # return self.rows[n]\n",
    "        return [val for key, val in self.board_map.items() if key[0]==n]\n",
    "\n",
    "    def get_col(self, n):\n",
    "        return [val for key, val in self.board_map.items() if key[1]==n]\n",
    "\n",
    "    def get_box(self, n, flat_list=True):\n",
    "        return [val for key, val in self.board_map.items() if key[2]==n]\n",
    "            \n",
    "    def get_rows(self):\n",
    "        # return self.rows\n",
    "        return [b.get_row(r) for r in range(0,9)]\n",
    "\n",
    "    def get_cols(self):\n",
    "        return list(map(lambda x: self.get_col(x), range(0,9)))\n",
    "        \n",
    "    def get_boxes(self):\n",
    "        return list(map(lambda x: self.get_box(x), range(0,9)))\n",
    "        \n",
    "    def get_box_row(self, n):\n",
    "        if n==0:\n",
    "            return self.get_rows()[0:3]\n",
    "        if n==1:\n",
    "            return self.get_rows()[3:6]\n",
    "        if n==2:\n",
    "            return self.get_rows()[6:9]\n",
    "            \n",
    "        return 'No way Jose'\n",
    "        \n",
    "    def get_box_col(self, n):\n",
    "        return [self.get_col(0), self.get_col(1), self.get_col(2)]\n",
    "\n",
    "    def get_box_for_square(self, square):\n",
    "        # return self.get_box(0)\n",
    "        (r, c) = square\n",
    "        b_row = r//3\n",
    "        b_col = c//3\n",
    "        # print(f'box: {(b_row, b_col)}')\n",
    "        return Board.box_map[(b_row, b_col)]\n",
    "\n",
    "    def get_rows_containing_digit(self, digit):\n",
    "        return [i for i, x in enumerate(map(lambda x: digit in x, self.get_rows())) if x]\n",
    "\n",
    "    def get_cols_containing_digit(self, digit):\n",
    "        return [i for i, x in enumerate(map(lambda x: digit in x, self.get_cols())) if x]\n",
    "\n",
    "    def get_boxes_containing_digit(self, digit):\n",
    "        return [i for i, x in enumerate(map(lambda x: digit in x, self.get_boxes())) if x]\n",
    "\n",
    "    def update_candidate_notes(self):\n",
    "        for sq in self.empty_squares:\n",
    "            self.calc_candidates(sq)\n",
    "        self.solve_log.append(f'{len(self.empty_squares)} squares open. Candidates per square summary: {self.summarize_board()}')\n",
    "\n",
    "    def get_solved_squares(self):\n",
    "        return {key : val for key, val in self.empty_squares.items() if len(val)==1}\n",
    "\n",
    "    def get_two_candidate_squares(self):\n",
    "        return {key : val for key, val in self.empty_squares.items() if len(val)==2}\n",
    "        \n",
    "    def fill_in_solved_squares(self):\n",
    "        single_candidates = self.get_solved_squares()\n",
    "        for sq in single_candidates:\n",
    "            self.set_square(sq, single_candidates[sq].pop())\n",
    "            # self.empty_squares.pop(sq)\n",
    "\n",
    "    def summarize_board(self):\n",
    "        return hash_count(list(map(len, self.empty_squares.values())), sort=True)\n",
    "\n",
    "    def forward_solve(self):\n",
    "        while len(self.empty_squares) > 0:\n",
    "            self.fill_in_solved_squares()\n",
    "            self.update_candidate_notes()\n",
    "            # for i in range(0,9):\n",
    "            #     self.check_row(i)\n",
    "            #     self.check_col(i)\n",
    "            if len(self.get_solved_squares()) == 0:\n",
    "                break \n",
    "\n",
    "    def apply_solves(self, rounds=5):\n",
    "        self.forward_solve()\n",
    "        if len(self.empty_squares) == 0:\n",
    "            return True\n",
    "        \n",
    "        last_empty_count = len(self.empty_squares)\n",
    "\n",
    "        for idx in range(0,rounds):\n",
    "            # print(idx, len(self.empty_squares))\n",
    "            for i in range(0,9):\n",
    "                self.check_row(i)\n",
    "                self.check_col(i)\n",
    "            self.forward_solve()\n",
    "            # if len(self.empty_squares) == last_empty_count:\n",
    "            #     return False\n",
    "            # last_empty_count = self.empty_squares\n",
    "            \n",
    "    def check_row(self, r):\n",
    "        # solutions of type: last remaining spot for digit\n",
    "        j = filter_for_row(self.empty_squares, r)\n",
    "        digit_spots={}\n",
    "        for k, v in j.items():\n",
    "            for m in v:\n",
    "                if m in digit_spots:\n",
    "                    digit_spots[m].append(k[1])\n",
    "                else:\n",
    "                    digit_spots[m] = [k[1]]\n",
    "                    \n",
    "        solutions = [(v[0],k) for k,v in digit_spots.items() if len(v)==1]\n",
    "        if solutions:\n",
    "            for k,v in solutions:\n",
    "                sq = (r,k)\n",
    "                # print(f'digit: {v} can only go in {sq}')\n",
    "                self.set_square(sq, v)\n",
    "\n",
    "    def check_col(self, c):\n",
    "        # solutions of type: last remaining spot for digit\n",
    "        j = filter_for_col(self.empty_squares, c)\n",
    "        digit_spots={}\n",
    "        for k, v in j.items():\n",
    "            for m in v:\n",
    "                if m in digit_spots:\n",
    "                    digit_spots[m].append(k[0])\n",
    "                else:\n",
    "                    digit_spots[m] = [k[0]]\n",
    "                    \n",
    "        solutions = [(v[0],k) for k,v in digit_spots.items() if len(v)==1]\n",
    "    \n",
    "        if solutions:\n",
    "            for k,v in solutions:\n",
    "                sq = (k,c)\n",
    "                # print(f'digit: {v} can only go in {sq}')\n",
    "                self.set_square(sq, v)\n",
    "    \n",
    "    def check_col0(self):\n",
    "        # get everything from boxCol0, ie. boxes 0,3,6, left side of board\n",
    "        bmap = {key : val for key, val in self.board_map.items() if key[2] in [0, 3, 6]}\n",
    "        # check digits which appear twice in the group of 3 boxes\n",
    "        # i.e. just need one more, in 3rd box\n",
    "        return {key : val for key, val in invert_map( bmap ).items() if len(val)==2}\n",
    "\n",
    "    def export_boardstring(self):\n",
    "        # same format as original input file\n",
    "        return f'{self.name}\\n' + '\\n'.join(list(map(lambda r: ''.join(r), self.get_rows())))\n",
    "        \n",
    "    def export_svg_board(self, filename=None, show_notes=False):\n",
    "        if filename:\n",
    "            outname = filename\n",
    "        else:\n",
    "            outname = f'{self.name}.svg'\n",
    "            \n",
    "        with open(outname, 'w') as outfile:\n",
    "            with open('board_template_basefile.svg', 'r') as infile:\n",
    "                outfile.write(infile.read())\n",
    "                for sq in self.board_map:\n",
    "                    (row,col,box) = sq\n",
    "                    if self.board_map[sq] != '0':\n",
    "                        svg_sq = f'<text x=\"{100*(col+1)}\" y=\"{100*(row+1)}\">{b.board_map[sq]}</text>'\n",
    "                        outfile.write(svg_sq)\n",
    "                    elif show_notes:\n",
    "                        if self.empty_squares[row,col]:\n",
    "                            d={}\n",
    "                            for e in self.empty_squares[(row,col)]:\n",
    "                                d[e]=e\n",
    "                            svg_sq = f'''\n",
    "    <text x=\"{100*(col+1)}\" y=\"{100*(row+1)-40}\" class=\"note\">{d.get('1', '&#160;')} {d.get('2', '&#160;')} {d.get('3', '&#160;')}</text>\n",
    "    <text x=\"{100*(col+1)}\" y=\"{100*(row+1)-10}\" class=\"note\">{d.get('4', '&#160;')} {d.get('5', '&#160;')} {d.get('6', '&#160;')}</text>\n",
    "    <text x=\"{100*(col+1)}\" y=\"{100*(row+1)+20}\" class=\"note\">{d.get('7', '&#160;')} {d.get('8', '&#160;')} {d.get('9', '&#160;')}</text>\n",
    "    '''\n",
    "                            outfile.write(svg_sq)\n",
    "                        \n",
    "                outfile.write('</g></svg>')\n",
    "\n",
    "def flatten(matrix):\n",
    "    return [item for row in matrix for item in row]\n",
    "\n",
    "def filter_for_row(dct, row):\n",
    "    return dict([(k,v) for k, v in dct.items() if k[0]==row])\n",
    "\n",
    "def filter_for_col(dct, col):\n",
    "    return dict([(k,v) for k, v in dct.items() if k[1]==col])\n",
    "\n",
    "def hash_count(lst, sort=False):\n",
    "    summary = {}\n",
    "    for val in lst:\n",
    "        summary[val] = 1 + summary.get(val, 0)\n",
    "    if sort:\n",
    "        return dict(sorted(summary.items()))\n",
    "    else:\n",
    "        return summary\n",
    "\n",
    "def hash_count_bis(lst, sort=False):\n",
    "    summary = {}\n",
    "    for val in lst:\n",
    "        if val[1] in summary:\n",
    "            summary[val[1]].append(val)\n",
    "        else:\n",
    "            summary[val[1]] = [val]\n",
    "    if sort:\n",
    "        return dict(sorted(summary.items()))\n",
    "    else:\n",
    "        return summary\n",
    "\n",
    "def invert_map(map):\n",
    "    inverted_map = {}\n",
    "    for key, val in map.items():\n",
    "        if val in inverted_map:\n",
    "            inverted_map[val].append(key)\n",
    "        else:\n",
    "            inverted_map[val] = [key]\n",
    "\n",
    "    return inverted_map"
   ]
  },
  {
   "cell_type": "code",
   "execution_count": 576,
   "id": "0226cb19-1d14-4d72-92f2-77e8e109353d",
   "metadata": {},
   "outputs": [
    {
     "data": {
      "text/plain": [
       "['1', '2', '3', '4', '5', '6', '7', '8', '9']"
      ]
     },
     "execution_count": 576,
     "metadata": {},
     "output_type": "execute_result"
    }
   ],
   "source": [
    "list('123456789')"
   ]
  },
  {
   "cell_type": "code",
   "execution_count": 577,
   "id": "ae514078-6a65-4e09-b419-07379fc3fb9b",
   "metadata": {},
   "outputs": [],
   "source": [
    "def buildboard(chunk):\n",
    "    b = {}\n",
    "    lines = chunk.split('\\n')\n",
    "    b[lines[0]] = list(map(list, lines[1:10]))\n",
    "    return b"
   ]
  },
  {
   "cell_type": "code",
   "execution_count": 578,
   "id": "76cf1acf-d2e4-43ab-86ca-c967ebc04402",
   "metadata": {
    "scrolled": true
   },
   "outputs": [
    {
     "data": {
      "text/plain": [
       "['Grid 01\\n003020600\\n900305001\\n001806400\\n008102900\\n700000008\\n006708200\\n002609500\\n800203009\\n005010300\\n',\n",
       " 'Grid 02\\n200080300\\n060070084\\n030500209\\n000105408\\n000000000\\n402706000\\n301007040\\n720040060\\n004010003\\n',\n",
       " 'Grid 03\\n000000907\\n000420180\\n000705026\\n100904000\\n050000040\\n000507009\\n920108000\\n034059000\\n507000000\\n',\n",
       " 'Grid 04\\n030050040\\n008010500\\n460000012\\n070502080\\n000603000\\n040109030\\n250000098\\n001020600\\n080060020\\n',\n",
       " 'Grid 05\\n020810740\\n700003100\\n090002805\\n009040087\\n400208003\\n160030200\\n302700060\\n005600008\\n076051090\\n',\n",
       " 'Grid 06\\n100920000\\n524010000\\n000000070\\n050008102\\n000000000\\n402700090\\n060000000\\n000030945\\n000071006\\n',\n",
       " 'Grid 07\\n043080250\\n600000000\\n000001094\\n900004070\\n000608000\\n010200003\\n820500000\\n000000005\\n034090710\\n',\n",
       " 'Grid 08\\n480006902\\n002008001\\n900370060\\n840010200\\n003704100\\n001060049\\n020085007\\n700900600\\n609200018\\n',\n",
       " 'Grid 09\\n000900002\\n050123400\\n030000160\\n908000000\\n070000090\\n000000205\\n091000050\\n007439020\\n400007000\\n',\n",
       " 'Grid 10\\n001900003\\n900700160\\n030005007\\n050000009\\n004302600\\n200000070\\n600100030\\n042007006\\n500006800\\n',\n",
       " 'Grid 11\\n000125400\\n008400000\\n420800000\\n030000095\\n060902010\\n510000060\\n000003049\\n000007200\\n001298000\\n',\n",
       " 'Grid 12\\n062340750\\n100005600\\n570000040\\n000094800\\n400000006\\n005830000\\n030000091\\n006400007\\n059083260\\n',\n",
       " 'Grid 13\\n300000000\\n005009000\\n200504000\\n020000700\\n160000058\\n704310600\\n000890100\\n000067080\\n000005437\\n',\n",
       " 'Grid 14\\n630000000\\n000500008\\n005674000\\n000020000\\n003401020\\n000000345\\n000007004\\n080300902\\n947100080\\n',\n",
       " 'Grid 15\\n000020040\\n008035000\\n000070602\\n031046970\\n200000000\\n000501203\\n049000730\\n000000010\\n800004000\\n',\n",
       " 'Grid 16\\n361025900\\n080960010\\n400000057\\n008000471\\n000603000\\n259000800\\n740000005\\n020018060\\n005470329\\n',\n",
       " 'Grid 17\\n050807020\\n600010090\\n702540006\\n070020301\\n504000908\\n103080070\\n900076205\\n060090003\\n080103040\\n',\n",
       " 'Grid 18\\n080005000\\n000003457\\n000070809\\n060400903\\n007010500\\n408007020\\n901020000\\n842300000\\n000100080\\n',\n",
       " 'Grid 19\\n003502900\\n000040000\\n106000305\\n900251008\\n070408030\\n800763001\\n308000104\\n000020000\\n005104800\\n',\n",
       " 'Grid 20\\n000000000\\n009805100\\n051907420\\n290401065\\n000000000\\n140508093\\n026709580\\n005103600\\n000000000\\n',\n",
       " 'Grid 21\\n020030090\\n000907000\\n900208005\\n004806500\\n607000208\\n003102900\\n800605007\\n000309000\\n030020050\\n',\n",
       " 'Grid 22\\n005000006\\n070009020\\n000500107\\n804150000\\n000803000\\n000092805\\n907006000\\n030400010\\n200000600\\n',\n",
       " 'Grid 23\\n040000050\\n001943600\\n009000300\\n600050002\\n103000506\\n800020007\\n005000200\\n002436700\\n030000040\\n',\n",
       " 'Grid 24\\n004000000\\n000030002\\n390700080\\n400009001\\n209801307\\n600200008\\n010008053\\n900040000\\n000000800\\n',\n",
       " 'Grid 25\\n360020089\\n000361000\\n000000000\\n803000602\\n400603007\\n607000108\\n000000000\\n000418000\\n970030014\\n',\n",
       " 'Grid 26\\n500400060\\n009000800\\n640020000\\n000001008\\n208000501\\n700500000\\n000090084\\n003000600\\n060003002\\n',\n",
       " 'Grid 27\\n007256400\\n400000005\\n010030060\\n000508000\\n008060200\\n000107000\\n030070090\\n200000004\\n006312700\\n',\n",
       " 'Grid 28\\n000000000\\n079050180\\n800000007\\n007306800\\n450708096\\n003502700\\n700000005\\n016030420\\n000000000\\n',\n",
       " 'Grid 29\\n030000080\\n009000500\\n007509200\\n700105008\\n020090030\\n900402001\\n004207100\\n002000800\\n070000090\\n',\n",
       " 'Grid 30\\n200170603\\n050000100\\n000006079\\n000040700\\n000801000\\n009050000\\n310400000\\n005000060\\n906037002\\n',\n",
       " 'Grid 31\\n000000080\\n800701040\\n040020030\\n374000900\\n000030000\\n005000321\\n010060050\\n050802006\\n080000000\\n',\n",
       " 'Grid 32\\n000000085\\n000210009\\n960080100\\n500800016\\n000000000\\n890006007\\n009070052\\n300054000\\n480000000\\n',\n",
       " 'Grid 33\\n608070502\\n050608070\\n002000300\\n500090006\\n040302050\\n800050003\\n005000200\\n010704090\\n409060701\\n',\n",
       " 'Grid 34\\n050010040\\n107000602\\n000905000\\n208030501\\n040070020\\n901080406\\n000401000\\n304000709\\n020060010\\n',\n",
       " 'Grid 35\\n053000790\\n009753400\\n100000002\\n090080010\\n000907000\\n080030070\\n500000003\\n007641200\\n061000940\\n',\n",
       " 'Grid 36\\n006080300\\n049070250\\n000405000\\n600317004\\n007000800\\n100826009\\n000702000\\n075040190\\n003090600\\n',\n",
       " 'Grid 37\\n005080700\\n700204005\\n320000084\\n060105040\\n008000500\\n070803010\\n450000091\\n600508007\\n003010600\\n',\n",
       " 'Grid 38\\n000900800\\n128006400\\n070800060\\n800430007\\n500000009\\n600079008\\n090004010\\n003600284\\n001007000\\n',\n",
       " 'Grid 39\\n000080000\\n270000054\\n095000810\\n009806400\\n020403060\\n006905100\\n017000620\\n460000038\\n000090000\\n',\n",
       " 'Grid 40\\n000602000\\n400050001\\n085010620\\n038206710\\n000000000\\n019407350\\n026040530\\n900020007\\n000809000\\n',\n",
       " 'Grid 41\\n000900002\\n050123400\\n030000160\\n908000000\\n070000090\\n000000205\\n091000050\\n007439020\\n400007000\\n',\n",
       " 'Grid 42\\n380000000\\n000400785\\n009020300\\n060090000\\n800302009\\n000040070\\n001070500\\n495006000\\n000000092\\n',\n",
       " 'Grid 43\\n000158000\\n002060800\\n030000040\\n027030510\\n000000000\\n046080790\\n050000080\\n004070100\\n000325000\\n',\n",
       " 'Grid 44\\n010500200\\n900001000\\n002008030\\n500030007\\n008000500\\n600080004\\n040100700\\n000700006\\n003004050\\n',\n",
       " 'Grid 45\\n080000040\\n000469000\\n400000007\\n005904600\\n070608030\\n008502100\\n900000005\\n000781000\\n060000010\\n',\n",
       " 'Grid 46\\n904200007\\n010000000\\n000706500\\n000800090\\n020904060\\n040002000\\n001607000\\n000000030\\n300005702\\n',\n",
       " 'Grid 47\\n000700800\\n006000031\\n040002000\\n024070000\\n010030080\\n000060290\\n000800070\\n860000500\\n002006000\\n',\n",
       " 'Grid 48\\n001007090\\n590080001\\n030000080\\n000005800\\n050060020\\n004100000\\n080000030\\n100020079\\n020700400\\n',\n",
       " 'Grid 49\\n000003017\\n015009008\\n060000000\\n100007000\\n009000200\\n000500004\\n000000020\\n500600340\\n340200000\\n',\n",
       " 'Grid 50\\n300200000\\n000107000\\n706030500\\n070009080\\n900020004\\n010800050\\n009040301\\n000702000\\n000008006\\n']"
      ]
     },
     "execution_count": 578,
     "metadata": {},
     "output_type": "execute_result"
    }
   ],
   "source": [
    "#infile = 'sudoku.txt'\n",
    "infile = 'p096_sudoku.txt'\n",
    "boardchunks = []\n",
    "boardlines = ''\n",
    "with open(infile) as f:\n",
    "    for line in f:        \n",
    "        if line.startswith('Grid') and boardlines:\n",
    "            boardchunks.append(boardlines)\n",
    "            boardlines = line\n",
    "        else:\n",
    "            boardlines += line\n",
    "boardchunks"
   ]
  },
  {
   "cell_type": "code",
   "execution_count": 587,
   "id": "d754d3e7-11b7-4d34-9a14-ea4c6f52ca01",
   "metadata": {},
   "outputs": [
    {
     "name": "stdout",
     "output_type": "stream",
     "text": [
      "Grid 01: 0\n",
      "Grid 02: 50\n",
      "Grid 03: 50\n",
      "Grid 04: 47\n",
      "Grid 05: 0\n",
      "Grid 06: 57\n",
      "Grid 07: 53\n",
      "Grid 08: 0\n",
      "Grid 09: 55\n",
      "Grid 10: 53\n",
      "Grid 11: 52\n",
      "Grid 12: 0\n",
      "Grid 13: 37\n",
      "Grid 14: 54\n",
      "Grid 15: 30\n",
      "Grid 16: 0\n",
      "Grid 17: 0\n",
      "Grid 18: 47\n",
      "Grid 19: 0\n",
      "Grid 20: 0\n",
      "Grid 21: 49\n",
      "Grid 22: 44\n",
      "Grid 23: 39\n",
      "Grid 24: 41\n",
      "Grid 25: 52\n",
      "Grid 26: 55\n",
      "Grid 27: 50\n",
      "Grid 28: 42\n",
      "Grid 29: 54\n",
      "Grid 30: 54\n",
      "Grid 31: 54\n",
      "Grid 32: 49\n",
      "Grid 33: 49\n",
      "Grid 34: 0\n",
      "Grid 35: 46\n",
      "Grid 36: 0\n",
      "Grid 37: 49\n",
      "Grid 38: 0\n",
      "Grid 39: 45\n",
      "Grid 40: 0\n",
      "Grid 41: 55\n",
      "Grid 42: 55\n",
      "Grid 43: 53\n",
      "Grid 44: 57\n",
      "Grid 45: 53\n",
      "Grid 46: 57\n",
      "Grid 47: 58\n",
      "Grid 48: 56\n",
      "Grid 49: 59\n",
      "Grid 50: 54\n"
     ]
    }
   ],
   "source": [
    "boards={}\n",
    "for bc in boardchunks:\n",
    "    b = Board(bc)\n",
    "    b.forward_solve()\n",
    "    # for i in range(0,9):\n",
    "    #     b.check_row(i)\n",
    "    #     b.check_col(i)\n",
    "    # # b.forward_solve()\n",
    "    # # for i in range(0,9):\n",
    "        \n",
    "    # # b.forward_solve()\n",
    "    # b.apply_solves(7)\n",
    "    boards[b.name] = b\n",
    "    print(f'{b.name}: {len(b.empty_squares)}')"
   ]
  },
  {
   "cell_type": "code",
   "execution_count": 581,
   "id": "598a66d0-b4fb-45ee-aeed-40823ac14d4e",
   "metadata": {},
   "outputs": [
    {
     "name": "stdout",
     "output_type": "stream",
     "text": [
      "{(1, 3): set(), (4, 3): {'7', '3'}, (4, 5): {'7', '3'}, (7, 3): {'7', '3'}, (7, 5): {'7', '3'}}\n"
     ]
    }
   ],
   "source": [
    "print(boards['Grid 15'].empty_squares)"
   ]
  },
  {
   "cell_type": "code",
   "execution_count": 567,
   "id": "3b73867e-b6a2-4e23-85d4-ce3d483dc449",
   "metadata": {},
   "outputs": [
    {
     "name": "stdout",
     "output_type": "stream",
     "text": [
      "Grid 15\n",
      "[['3', '4', '1', '2', '8', '6', '7', '9', '7'],\n",
      " ['8', '9', '5', '1', '0', '7', '4', '6', '3'],\n",
      " ['7', '2', '6', '9', '3', '4', '5', '1', '8'],\n",
      " ['5', '7', '3', '4', '6', '9', '1', '8', '2'],\n",
      " ['9', '6', '8', '5', '2', '1', '7', '3', '4'],\n",
      " ['4', '1', '2', '8', '7', '3', '6', '5', '9'],\n",
      " ['2', '8', '9', '6', '4', '5', '3', '7', '1'],\n",
      " ['6', '3', '1', '7', '9', '2', '8', '4', '5'],\n",
      " ['4', '5', '7', '3', '1', '8', '9', '2', '6']]\n"
     ]
    }
   ],
   "source": [
    "print(boards['Grid 15'])"
   ]
  },
  {
   "cell_type": "code",
   "execution_count": 582,
   "id": "2b1a6bed-3fe3-4c09-af43-3fc1a6001daa",
   "metadata": {},
   "outputs": [
    {
     "name": "stdout",
     "output_type": "stream",
     "text": [
      "{(0, 0, 0): '0', (0, 1, 0): '0', (0, 2, 0): '0', (0, 3, 1): '0', (0, 4, 1): '0', (0, 5, 1): '0', (0, 6, 2): '9', (0, 7, 2): '0', (0, 8, 2): '7', (1, 0, 0): '0', (1, 1, 0): '0', (1, 2, 0): '0', (1, 3, 1): '4', (1, 4, 1): '2', (1, 5, 1): '0', (1, 6, 2): '1', (1, 7, 2): '8', (1, 8, 2): '0', (2, 0, 0): '0', (2, 1, 0): '0', (2, 2, 0): '0', (2, 3, 1): '7', (2, 4, 1): '0', (2, 5, 1): '5', (2, 6, 2): '0', (2, 7, 2): '2', (2, 8, 2): '6', (3, 0, 3): '1', (3, 1, 3): '0', (3, 2, 3): '0', (3, 3, 4): '9', (3, 4, 4): '0', (3, 5, 4): '4', (3, 6, 5): '0', (3, 7, 5): '0', (3, 8, 5): '0', (4, 0, 3): '0', (4, 1, 3): '5', (4, 2, 3): '0', (4, 3, 4): '0', (4, 4, 4): '0', (4, 5, 4): '0', (4, 6, 5): '0', (4, 7, 5): '4', (4, 8, 5): '0', (5, 0, 3): '0', (5, 1, 3): '0', (5, 2, 3): '0', (5, 3, 4): '5', (5, 4, 4): '0', (5, 5, 4): '7', (5, 6, 5): '0', (5, 7, 5): '0', (5, 8, 5): '9', (6, 0, 6): '9', (6, 1, 6): '2', (6, 2, 6): '0', (6, 3, 7): '1', (6, 4, 7): '0', (6, 5, 7): '8', (6, 6, 8): '0', (6, 7, 8): '0', (6, 8, 8): '0', (7, 0, 6): '0', (7, 1, 6): '3', (7, 2, 6): '4', (7, 3, 7): '0', (7, 4, 7): '5', (7, 5, 7): '9', (7, 6, 8): '0', (7, 7, 8): '0', (7, 8, 8): '0', (8, 0, 6): '5', (8, 1, 6): '0', (8, 2, 6): '7', (8, 3, 7): '0', (8, 4, 7): '0', (8, 5, 7): '0', (8, 6, 8): '0', (8, 7, 8): '0', (8, 8, 8): '0'}\n"
     ]
    }
   ],
   "source": [
    "b = Board(boardchunks[2])\n",
    "print(b.board_map)"
   ]
  },
  {
   "cell_type": "code",
   "execution_count": null,
   "id": "e8c992ad-fb5f-4c67-8414-2c046d6c5d36",
   "metadata": {},
   "outputs": [],
   "source": []
  },
  {
   "cell_type": "code",
   "execution_count": 583,
   "id": "00556306-8ed8-479e-adad-5506dd734e04",
   "metadata": {},
   "outputs": [
    {
     "data": {
      "text/plain": [
       "'Grid 03'"
      ]
     },
     "execution_count": 583,
     "metadata": {},
     "output_type": "execute_result"
    }
   ],
   "source": [
    "b.name"
   ]
  },
  {
   "cell_type": "code",
   "execution_count": 584,
   "id": "22a928e1-a17e-4e81-ad99-5f333ee5ed77",
   "metadata": {},
   "outputs": [],
   "source": [
    "b.apply_solves()"
   ]
  },
  {
   "cell_type": "code",
   "execution_count": 585,
   "id": "bc64a889-de5c-4808-91e5-dfa79c3d2154",
   "metadata": {},
   "outputs": [
    {
     "name": "stdout",
     "output_type": "stream",
     "text": [
      "Grid 03\n",
      "[['2', '6', '1', '8', '8', '3', '9', '5', '7'],\n",
      " ['7', '9', '5', '4', '2', '6', '1', '8', '3'],\n",
      " ['3', '8', '1', '7', '9', '5', '4', '2', '6'],\n",
      " ['1', '7', '2', '9', '3', '4', '8', '6', '5'],\n",
      " ['6', '5', '9', '2', '6', '1', '7', '4', '2'],\n",
      " ['4', '4', '8', '5', '6', '7', '3', '1', '9'],\n",
      " ['9', '2', '6', '1', '7', '8', '5', '3', '4'],\n",
      " ['8', '3', '4', '6', '5', '9', '7', '7', '1'],\n",
      " ['5', '1', '7', '3', '4', '2', '6', '9', '8']]\n"
     ]
    }
   ],
   "source": [
    "print(b)"
   ]
  },
  {
   "cell_type": "code",
   "execution_count": 479,
   "id": "49344a7f-3ce7-48c1-bd99-0c2137680d36",
   "metadata": {},
   "outputs": [],
   "source": [
    "b.export_svg_board(show_notes=True)"
   ]
  },
  {
   "cell_type": "code",
   "execution_count": 478,
   "id": "8de52079-75b1-498d-b50b-23a18fe83247",
   "metadata": {},
   "outputs": [],
   "source": [
    "b.forward_solve()"
   ]
  },
  {
   "cell_type": "code",
   "execution_count": 463,
   "id": "c2418496-1002-4f4a-a24f-ef1b59e878e7",
   "metadata": {},
   "outputs": [
    {
     "data": {
      "text/plain": [
       "['0', '3', '0', '5', '6', '0', '2', '0', '9']"
      ]
     },
     "execution_count": 463,
     "metadata": {},
     "output_type": "execute_result"
    }
   ],
   "source": [
    "b.get_row(2)"
   ]
  },
  {
   "cell_type": "code",
   "execution_count": 400,
   "id": "9bd8c2c4-0249-4372-8bc4-647baec2e07f",
   "metadata": {},
   "outputs": [
    {
     "data": {
      "text/plain": [
       "[((2, 0), {'1', '8'}),\n",
       " ((2, 2), {'7', '8'}),\n",
       " ((2, 5), {'1', '4'}),\n",
       " ((2, 7), {'1', '7'})]"
      ]
     },
     "execution_count": 400,
     "metadata": {},
     "output_type": "execute_result"
    }
   ],
   "source": [
    "[(k,v) for k, v in b.empty_squares.items() if k[0]==2]"
   ]
  },
  {
   "cell_type": "code",
   "execution_count": null,
   "id": "2f96285d-3b6b-430b-ba78-98b627c7907e",
   "metadata": {},
   "outputs": [],
   "source": []
  },
  {
   "cell_type": "code",
   "execution_count": 476,
   "id": "0e78f391-f633-4437-bb73-974afe8249a0",
   "metadata": {},
   "outputs": [
    {
     "name": "stdout",
     "output_type": "stream",
     "text": [
      "digit: 6 can only go in (0, 8)\n",
      "digit: 4 can only go in (2, 5)\n",
      "digit: 8 can only go in (5, 1)\n",
      "digit: 6 can only go in (6, 3)\n"
     ]
    }
   ],
   "source": [
    "for r in range(0,9):\n",
    "    b.check_row(r)"
   ]
  },
  {
   "cell_type": "code",
   "execution_count": 474,
   "id": "1eb5b15f-c15b-432a-8c2e-4122c951db93",
   "metadata": {},
   "outputs": [
    {
     "name": "stdout",
     "output_type": "stream",
     "text": [
      "digit: 4 can only go in (0, 1)\n",
      "digit: 5 can only go in (6, 4)\n",
      "digit: 6 can only go in (4, 6)\n"
     ]
    }
   ],
   "source": [
    "for c in range(0,9):\n",
    "    b.check_col(c)"
   ]
  },
  {
   "cell_type": "code",
   "execution_count": 401,
   "id": "cb27f4c9-a1b6-4407-a80d-76dfea387134",
   "metadata": {},
   "outputs": [
    {
     "data": {
      "text/plain": [
       "{(2, 0): {'1', '8'},\n",
       " (2, 2): {'7', '8'},\n",
       " (2, 5): {'1', '4'},\n",
       " (2, 7): {'1', '7'}}"
      ]
     },
     "execution_count": 401,
     "metadata": {},
     "output_type": "execute_result"
    }
   ],
   "source": [
    "j = filter_for_row(b.empty_squares, 2)\n",
    "j"
   ]
  },
  {
   "cell_type": "code",
   "execution_count": 402,
   "id": "e1f17987-df68-4d29-b66e-45e59584ed12",
   "metadata": {},
   "outputs": [
    {
     "data": {
      "text/plain": [
       "{'8': [0, 2], '1': [0, 5, 7], '7': [2, 7], '4': [5]}"
      ]
     },
     "execution_count": 402,
     "metadata": {},
     "output_type": "execute_result"
    }
   ],
   "source": [
    "digit_spots={}\n",
    "for k, v in j.items():\n",
    "    for m in v:\n",
    "        if m in digit_spots:\n",
    "            digit_spots[m].append(k[1])\n",
    "        else:\n",
    "            digit_spots[m] = [k[1]]\n",
    "digit_spots"
   ]
  },
  {
   "cell_type": "code",
   "execution_count": 405,
   "id": "59d42f34-b40a-4f93-8889-1a824f2727f4",
   "metadata": {},
   "outputs": [
    {
     "data": {
      "text/plain": [
       "[(5, '4')]"
      ]
     },
     "execution_count": 405,
     "metadata": {},
     "output_type": "execute_result"
    }
   ],
   "source": [
    "[(v[0],k) for k,v in digit_spots.items() if len(v)==1]"
   ]
  },
  {
   "cell_type": "code",
   "execution_count": 366,
   "id": "98295300-80eb-4b4e-b5ab-36cc2198ff8a",
   "metadata": {},
   "outputs": [
    {
     "name": "stdout",
     "output_type": "stream",
     "text": [
      "Grid 01\n",
      "[['4', '8', '3', '9', '2', '1', '6', '5', '7'],\n",
      " ['9', '6', '7', '3', '4', '5', '8', '2', '1'],\n",
      " ['2', '5', '1', '8', '7', '6', '4', '9', '3'],\n",
      " ['5', '4', '8', '1', '3', '2', '9', '7', '6'],\n",
      " ['7', '2', '9', '5', '6', '4', '1', '3', '8'],\n",
      " ['1', '3', '6', '7', '9', '8', '2', '4', '5'],\n",
      " ['3', '7', '2', '6', '8', '9', '5', '1', '4'],\n",
      " ['8', '1', '4', '2', '5', '3', '7', '6', '9'],\n",
      " ['6', '9', '5', '4', '1', '7', '3', '8', '2']]\n"
     ]
    }
   ],
   "source": [
    "print(b)"
   ]
  },
  {
   "cell_type": "code",
   "execution_count": 368,
   "id": "a750a343-ca6a-4e2a-aede-a091d8c4b9a4",
   "metadata": {},
   "outputs": [
    {
     "data": {
      "text/plain": [
       "0"
      ]
     },
     "execution_count": 368,
     "metadata": {},
     "output_type": "execute_result"
    }
   ],
   "source": [
    "len(b.empty_squares)"
   ]
  },
  {
   "cell_type": "code",
   "execution_count": 352,
   "id": "80f6b480-d0da-4a2f-bec0-0361cb42c827",
   "metadata": {},
   "outputs": [
    {
     "data": {
      "text/plain": [
       "{'3': [(2, 1, 0), (6, 0, 6)], '4': [(5, 0, 3), (8, 2, 6)]}"
      ]
     },
     "execution_count": 352,
     "metadata": {},
     "output_type": "execute_result"
    }
   ],
   "source": [
    "j = b.check_col0()\n",
    "j"
   ]
  },
  {
   "cell_type": "code",
   "execution_count": 363,
   "id": "065d5cb0-5c5b-462d-9a6d-90d366e1e1e8",
   "metadata": {},
   "outputs": [
    {
     "name": "stdout",
     "output_type": "stream",
     "text": [
      "3 {3}\n",
      "4 {0}\n"
     ]
    }
   ],
   "source": [
    "for k,v in j.items():\n",
    "    print(k, {0,3,6}.difference({x[2] for x in v}))"
   ]
  },
  {
   "cell_type": "code",
   "execution_count": 314,
   "id": "f718ff41-5f09-42c9-be4f-4ff77feb664b",
   "metadata": {},
   "outputs": [],
   "source": [
    "b.set_square( (0,1), '4')"
   ]
  },
  {
   "cell_type": "code",
   "execution_count": 315,
   "id": "20b148c9-bba3-4fe4-926a-bd308c18cab6",
   "metadata": {},
   "outputs": [],
   "source": [
    "b.set_square( (0,8), '6')"
   ]
  },
  {
   "cell_type": "code",
   "execution_count": 316,
   "id": "5067519e-d737-41b9-95f5-8b676bd927e3",
   "metadata": {},
   "outputs": [],
   "source": [
    "b.set_square( (6,8), '2')"
   ]
  },
  {
   "cell_type": "code",
   "execution_count": 320,
   "id": "cfc86dfc-b2de-4ed6-83dd-dd5dcca702b0",
   "metadata": {},
   "outputs": [],
   "source": [
    "b.set_square( (8,0), '6')"
   ]
  },
  {
   "cell_type": "code",
   "execution_count": 323,
   "id": "622b1c0f-c5e8-4e3c-b87b-c65d092c4d50",
   "metadata": {},
   "outputs": [],
   "source": [
    "b.set_square( (3,2), '6')"
   ]
  },
  {
   "cell_type": "code",
   "execution_count": 326,
   "id": "7ab41c2b-e9d1-4c7b-915a-bae0ae218596",
   "metadata": {},
   "outputs": [],
   "source": [
    "b.set_square( (4,8), '7')"
   ]
  },
  {
   "cell_type": "code",
   "execution_count": 329,
   "id": "c103cf27-c1dd-4dfe-bf6e-0b78c0975c52",
   "metadata": {},
   "outputs": [],
   "source": [
    "b.set_square( (8,6), '7')"
   ]
  },
  {
   "cell_type": "code",
   "execution_count": 330,
   "id": "a26055d1-5927-46bf-b494-b1b58ca7fda6",
   "metadata": {},
   "outputs": [],
   "source": [
    "b.forward_solve()"
   ]
  },
  {
   "cell_type": "code",
   "execution_count": 333,
   "id": "f85a36f2-3a63-44e8-8f83-99f3d599c1c1",
   "metadata": {},
   "outputs": [
    {
     "data": {
      "text/plain": [
       "['51 squares open. Candidates per square summary: {1: 1, 2: 12, 3: 16, 4: 13, 5: 7, 6: 2}',\n",
       " '50 squares open. Candidates per square summary: {2: 13, 3: 16, 4: 12, 5: 7, 6: 2}',\n",
       " '47 squares open. Candidates per square summary: {1: 1, 2: 13, 3: 17, 4: 9, 5: 5, 6: 2}',\n",
       " '46 squares open. Candidates per square summary: {1: 1, 2: 16, 3: 15, 4: 8, 5: 4, 6: 2}',\n",
       " '45 squares open. Candidates per square summary: {1: 1, 2: 17, 3: 13, 4: 8, 5: 4, 6: 2}',\n",
       " '44 squares open. Candidates per square summary: {2: 17, 3: 13, 4: 9, 5: 3, 6: 2}',\n",
       " '43 squares open. Candidates per square summary: {1: 1, 2: 17, 3: 12, 4: 9, 5: 2, 6: 2}',\n",
       " '42 squares open. Candidates per square summary: {1: 1, 2: 18, 3: 14, 4: 6, 5: 2, 6: 1}',\n",
       " '41 squares open. Candidates per square summary: {2: 20, 3: 13, 4: 6, 5: 1, 6: 1}',\n",
       " '40 squares open. Candidates per square summary: {2: 19, 3: 14, 4: 5, 5: 1, 6: 1}',\n",
       " '39 squares open. Candidates per square summary: {2: 19, 3: 13, 4: 6, 5: 1}',\n",
       " '38 squares open. Candidates per square summary: {2: 20, 3: 12, 4: 5, 5: 1}']"
      ]
     },
     "execution_count": 333,
     "metadata": {},
     "output_type": "execute_result"
    }
   ],
   "source": [
    "b.solve_log"
   ]
  },
  {
   "cell_type": "code",
   "execution_count": 243,
   "id": "2a65fe11-fdce-45d9-be32-6bf4589b3aab",
   "metadata": {},
   "outputs": [
    {
     "name": "stdout",
     "output_type": "stream",
     "text": [
      "['51 squares open. Candidates per square summary: {1: 1, 2: 12, 3: 16, 4: 13, 5: 7, 6: 2}', '50 squares open. Candidates per square summary: {2: 13, 3: 16, 4: 12, 5: 7, 6: 2}', '50 squares open. Candidates per square summary: {1: 1, 2: 13, 3: 15, 4: 13, 5: 6, 6: 2}', '49 squares open. Candidates per square summary: {1: 1, 2: 15, 3: 16, 4: 10, 5: 5, 6: 2}', '48 squares open. Candidates per square summary: {1: 1, 2: 17, 3: 14, 4: 9, 5: 5, 6: 2}', '47 squares open. Candidates per square summary: {2: 17, 3: 14, 4: 10, 5: 4, 6: 2}']\n"
     ]
    }
   ],
   "source": [
    "# b.fill_in_solved_squares()\n",
    "print(b.solve_log)"
   ]
  },
  {
   "cell_type": "code",
   "execution_count": 190,
   "id": "3c611753-e792-4db0-865d-6c0dc7d266c6",
   "metadata": {},
   "outputs": [
    {
     "name": "stdout",
     "output_type": "stream",
     "text": [
      "['51 squares open. Candidates per square summary: {1: 1, 2: 12, 3: 16, 4: 13, 5: 7, 6: 2}', '50 squares open. Candidates per square summary: {2: 13, 3: 16, 4: 12, 5: 7, 6: 2}']\n"
     ]
    }
   ],
   "source": [
    "b.update_candidate_notes()\n",
    "print(b.solve_log)"
   ]
  },
  {
   "cell_type": "code",
   "execution_count": 191,
   "id": "43b88c91-c8b4-47e6-9bb6-9a66e6fd8795",
   "metadata": {},
   "outputs": [
    {
     "name": "stdout",
     "output_type": "stream",
     "text": [
      "Grid 02\n",
      "[['2', '0', '0', '0', '8', '0', '3', '0', '0'],\n",
      " ['0', '6', '0', '0', '7', '0', '0', '8', '4'],\n",
      " ['0', '3', '0', '5', '6', '0', '2', '0', '9'],\n",
      " ['0', '0', '0', '1', '0', '5', '4', '0', '8'],\n",
      " ['0', '0', '0', '0', '0', '0', '0', '0', '0'],\n",
      " ['4', '0', '2', '7', '0', '6', '0', '0', '0'],\n",
      " ['3', '0', '1', '0', '0', '7', '0', '4', '0'],\n",
      " ['7', '2', '0', '0', '4', '0', '0', '6', '0'],\n",
      " ['0', '0', '4', '0', '1', '0', '0', '0', '3']]\n"
     ]
    }
   ],
   "source": [
    "print(b)"
   ]
  },
  {
   "cell_type": "code",
   "execution_count": null,
   "id": "cb9c2941-5e38-43de-a3f7-3b5565c279a7",
   "metadata": {},
   "outputs": [],
   "source": []
  },
  {
   "cell_type": "code",
   "execution_count": null,
   "id": "9420686f-f559-4a34-92b1-4374d983e99f",
   "metadata": {},
   "outputs": [],
   "source": []
  },
  {
   "cell_type": "code",
   "execution_count": 192,
   "id": "fac03102-0f21-458f-bca9-bdd6b9b490cc",
   "metadata": {},
   "outputs": [
    {
     "data": {
      "text/plain": [
       "\u001b[1;31mSignature:\u001b[0m \u001b[0mb\u001b[0m\u001b[1;33m.\u001b[0m\u001b[0mforward_solve\u001b[0m\u001b[1;33m(\u001b[0m\u001b[1;33m)\u001b[0m\u001b[1;33m\u001b[0m\u001b[1;33m\u001b[0m\u001b[0m\n",
       "\u001b[1;31mDocstring:\u001b[0m <no docstring>\n",
       "\u001b[1;31mSource:\u001b[0m   \n",
       "    \u001b[1;32mdef\u001b[0m \u001b[0mforward_solve\u001b[0m\u001b[1;33m(\u001b[0m\u001b[0mself\u001b[0m\u001b[1;33m)\u001b[0m\u001b[1;33m:\u001b[0m\u001b[1;33m\n",
       "\u001b[0m        \u001b[1;32mwhile\u001b[0m \u001b[0mlen\u001b[0m\u001b[1;33m(\u001b[0m\u001b[0mself\u001b[0m\u001b[1;33m.\u001b[0m\u001b[0mempty_squares\u001b[0m\u001b[1;33m)\u001b[0m \u001b[1;33m>\u001b[0m \u001b[1;36m0\u001b[0m\u001b[1;33m:\u001b[0m\u001b[1;33m\n",
       "\u001b[0m            \u001b[0mself\u001b[0m\u001b[1;33m.\u001b[0m\u001b[0mfill_in_solved_squares\u001b[0m\u001b[1;33m(\u001b[0m\u001b[1;33m)\u001b[0m\u001b[1;33m\n",
       "\u001b[0m            \u001b[0mself\u001b[0m\u001b[1;33m.\u001b[0m\u001b[0mupdate_candidate_notes\u001b[0m\u001b[1;33m(\u001b[0m\u001b[1;33m)\u001b[0m\u001b[1;33m\n",
       "\u001b[0m            \u001b[1;32mif\u001b[0m \u001b[0mlen\u001b[0m\u001b[1;33m(\u001b[0m\u001b[0mself\u001b[0m\u001b[1;33m.\u001b[0m\u001b[0mget_solved_squares\u001b[0m\u001b[1;33m(\u001b[0m\u001b[1;33m)\u001b[0m\u001b[1;33m)\u001b[0m \u001b[1;33m==\u001b[0m \u001b[1;36m0\u001b[0m\u001b[1;33m:\u001b[0m\u001b[1;33m\n",
       "\u001b[0m                \u001b[1;32mbreak\u001b[0m\u001b[1;33m\u001b[0m\u001b[1;33m\u001b[0m\u001b[0m\n",
       "\u001b[1;31mFile:\u001b[0m      c:\\users\\jake hendrickson\\appdata\\local\\temp\\ipykernel_14072\\521901088.py\n",
       "\u001b[1;31mType:\u001b[0m      method"
      ]
     },
     "metadata": {},
     "output_type": "display_data"
    }
   ],
   "source": [
    "b.forward_solve??"
   ]
  },
  {
   "cell_type": "code",
   "execution_count": null,
   "id": "4e050ed4-079e-4df5-97a3-6f90d034cc40",
   "metadata": {},
   "outputs": [],
   "source": []
  },
  {
   "cell_type": "code",
   "execution_count": null,
   "id": "b7dc0fb2-fe7b-4fd8-b73a-3181b91abdbc",
   "metadata": {},
   "outputs": [],
   "source": []
  },
  {
   "cell_type": "code",
   "execution_count": 193,
   "id": "7e20dd22-d9d6-4bb1-b960-d47d6eef9838",
   "metadata": {},
   "outputs": [
    {
     "data": {
      "text/plain": [
       "['0', '4', '9', '8', '0', '0', '0', '0', '3']"
      ]
     },
     "execution_count": 193,
     "metadata": {},
     "output_type": "execute_result"
    }
   ],
   "source": [
    "b.get_col(8)"
   ]
  },
  {
   "cell_type": "code",
   "execution_count": 21,
   "id": "99063124-2e7f-4652-825b-437092a83ebf",
   "metadata": {},
   "outputs": [
    {
     "data": {
      "text/plain": [
       "{(0, 0, 0): '2',\n",
       " (0, 1, 0): '0',\n",
       " (0, 2, 0): '0',\n",
       " (1, 0, 0): '0',\n",
       " (1, 1, 0): '6',\n",
       " (1, 2, 0): '0',\n",
       " (2, 0, 0): '0',\n",
       " (2, 1, 0): '3',\n",
       " (2, 2, 0): '0',\n",
       " (3, 0, 3): '0',\n",
       " (3, 1, 3): '0',\n",
       " (3, 2, 3): '0',\n",
       " (4, 0, 3): '0',\n",
       " (4, 1, 3): '0',\n",
       " (4, 2, 3): '0',\n",
       " (5, 0, 3): '4',\n",
       " (5, 1, 3): '0',\n",
       " (5, 2, 3): '2',\n",
       " (6, 0, 6): '3',\n",
       " (6, 1, 6): '0',\n",
       " (6, 2, 6): '1',\n",
       " (7, 0, 6): '7',\n",
       " (7, 1, 6): '2',\n",
       " (7, 2, 6): '0',\n",
       " (8, 0, 6): '0',\n",
       " (8, 1, 6): '0',\n",
       " (8, 2, 6): '4'}"
      ]
     },
     "execution_count": 21,
     "metadata": {},
     "output_type": "execute_result"
    }
   ],
   "source": [
    "# get everything from boxCol0, ie. boxes 0,3,6, left side of board\n",
    "bmap = {key : val for key, val in b.board_map.items() if key[2] in [0, 3, 6]}\n",
    "bmap"
   ]
  },
  {
   "cell_type": "code",
   "execution_count": 22,
   "id": "c50e57fe-c14b-4746-a348-f619aff314fa",
   "metadata": {},
   "outputs": [
    {
     "data": {
      "text/plain": [
       "{'2': [(0, 0, 0), (5, 2, 3), (7, 1, 6)],\n",
       " '0': [(0, 1, 0),\n",
       "  (0, 2, 0),\n",
       "  (1, 0, 0),\n",
       "  (1, 2, 0),\n",
       "  (2, 0, 0),\n",
       "  (2, 2, 0),\n",
       "  (3, 0, 3),\n",
       "  (3, 1, 3),\n",
       "  (3, 2, 3),\n",
       "  (4, 0, 3),\n",
       "  (4, 1, 3),\n",
       "  (4, 2, 3),\n",
       "  (5, 1, 3),\n",
       "  (6, 1, 6),\n",
       "  (7, 2, 6),\n",
       "  (8, 0, 6),\n",
       "  (8, 1, 6)],\n",
       " '6': [(1, 1, 0)],\n",
       " '3': [(2, 1, 0), (6, 0, 6)],\n",
       " '4': [(5, 0, 3), (8, 2, 6)],\n",
       " '1': [(6, 2, 6)],\n",
       " '7': [(7, 0, 6)]}"
      ]
     },
     "execution_count": 22,
     "metadata": {},
     "output_type": "execute_result"
    }
   ],
   "source": [
    "invert_map( bmap )"
   ]
  },
  {
   "cell_type": "code",
   "execution_count": 23,
   "id": "31010d3f-6ab7-4075-a32d-3d9764d25271",
   "metadata": {},
   "outputs": [
    {
     "data": {
      "text/plain": [
       "{'3': [(2, 1, 0), (6, 0, 6)], '4': [(5, 0, 3), (8, 2, 6)]}"
      ]
     },
     "execution_count": 23,
     "metadata": {},
     "output_type": "execute_result"
    }
   ],
   "source": [
    "# check digits which appear twice in the group of 3 boxes\n",
    "# i.e. just need one more, in 3rd box\n",
    "{key : val for key, val in invert_map( bmap ).items() if len(val)==2}"
   ]
  },
  {
   "cell_type": "code",
   "execution_count": 24,
   "id": "02be52ee-5d1a-47c7-aa92-4008e17dd784",
   "metadata": {},
   "outputs": [
    {
     "data": {
      "text/plain": [
       "{(0, 1, 0): '0', (1, 1, 0): '6', (2, 1, 0): '3'}"
      ]
     },
     "execution_count": 24,
     "metadata": {},
     "output_type": "execute_result"
    }
   ],
   "source": [
    "# For the digit 4, zero in on the one box which needs it, and the one column allowed to hold it\n",
    "trio_needs_4 = {key : val for key, val in b.board_map.items() if key[2] in [0] and key[1]==1}  # box==0 and column==1\n",
    "# checking middle column of box0 to see if there's a spot for '4'\n",
    "trio_needs_4"
   ]
  },
  {
   "cell_type": "code",
   "execution_count": 25,
   "id": "9add9785-985e-4b47-a7ae-5636ddb502bf",
   "metadata": {},
   "outputs": [
    {
     "data": {
      "text/plain": [
       "{'0': [(0, 1, 0)], '6': [(1, 1, 0)], '3': [(2, 1, 0)]}"
      ]
     },
     "execution_count": 25,
     "metadata": {},
     "output_type": "execute_result"
    }
   ],
   "source": [
    "check_trio_values_4 = invert_map(trio_needs_4)\n",
    "check_trio_values_4"
   ]
  },
  {
   "cell_type": "code",
   "execution_count": 26,
   "id": "42500885-65ca-47c8-8779-42d058f0c158",
   "metadata": {},
   "outputs": [
    {
     "name": "stdout",
     "output_type": "stream",
     "text": [
      "FOUND! square needs 4: (0, 1, 0)\n"
     ]
    }
   ],
   "source": [
    "## 4 needs to go someplace in this set of 3 cells (i.e. trio)\n",
    "## Check if there is only a single blank remaining. If so, we've found our spot.\n",
    "## If not, we need to do another check\n",
    "\n",
    "if len(check_trio_values_4['0'])==1 :\n",
    "    print(f\"FOUND! square needs 4: {check_trio_values_4['0'][0]}\")\n",
    "else:\n",
    "    print('no final answer')"
   ]
  },
  {
   "cell_type": "code",
   "execution_count": 27,
   "id": "b0bc69e1-2eee-454c-8815-f7bd617ded28",
   "metadata": {},
   "outputs": [
    {
     "data": {
      "text/plain": [
       "{(3, 2, 3): '0', (4, 2, 3): '0', (5, 2, 3): '2'}"
      ]
     },
     "execution_count": 27,
     "metadata": {},
     "output_type": "execute_result"
    }
   ],
   "source": [
    "trio_needs_3 = {key : val for key, val in b.board_map.items() if key[2] in [3] and key[1]==2}  # check for '3'\n",
    "trio_needs_3"
   ]
  },
  {
   "cell_type": "code",
   "execution_count": 28,
   "id": "df2096a1-1a8e-40a5-9c44-c45e58984937",
   "metadata": {},
   "outputs": [
    {
     "data": {
      "text/plain": [
       "{'0': [(3, 2, 3), (4, 2, 3)], '2': [(5, 2, 3)]}"
      ]
     },
     "execution_count": 28,
     "metadata": {},
     "output_type": "execute_result"
    }
   ],
   "source": [
    "invert_map(trio_needs_3)"
   ]
  },
  {
   "cell_type": "code",
   "execution_count": null,
   "id": "089212d8-f1e8-4e29-8d5f-f5da312a5a08",
   "metadata": {},
   "outputs": [],
   "source": [
    "[val for key, val in b.board_map.items() if key[2]==0]"
   ]
  },
  {
   "cell_type": "code",
   "execution_count": null,
   "id": "03ddc358-9639-4097-b903-98090db87169",
   "metadata": {},
   "outputs": [],
   "source": [
    "{key : val for key, val in b.board_map.items() if val=='4'}"
   ]
  },
  {
   "cell_type": "code",
   "execution_count": null,
   "id": "f98a63ba-2a16-4923-b295-e20b97e71c12",
   "metadata": {},
   "outputs": [],
   "source": [
    "b.forward_solve()\n",
    "print(b)"
   ]
  },
  {
   "cell_type": "code",
   "execution_count": null,
   "id": "e4229edc-2210-4eb5-9de3-6670f0020b95",
   "metadata": {},
   "outputs": [],
   "source": [
    "# b.set_square((0, 1), '4')\n",
    "# b.set_square((6, 4), '5')\n",
    "b.empty_squares[(0,1)] = set(['4'])\n",
    "b.empty_squares[(6,4)] = set(['5'])\n",
    "print(b)\n"
   ]
  },
  {
   "cell_type": "code",
   "execution_count": null,
   "id": "fff77b5a-6ce4-4995-a66e-6e4e20b2925a",
   "metadata": {},
   "outputs": [],
   "source": [
    "b.forward_solve()\n",
    "print(b)"
   ]
  },
  {
   "cell_type": "code",
   "execution_count": null,
   "id": "cf337517-b15b-45a2-8763-01175409e29b",
   "metadata": {},
   "outputs": [],
   "source": [
    "b.empty_squares[(0,8)] = set(['6'])\n",
    "b.empty_squares[(4,3)] = set(['4'])\n",
    "b.empty_squares[(4,7)] = set(['2'])\n",
    "b.forward_solve()\n",
    "print(b)"
   ]
  },
  {
   "cell_type": "code",
   "execution_count": null,
   "id": "c9d70d2b-3879-48e6-80aa-691e87b660e5",
   "metadata": {},
   "outputs": [],
   "source": [
    "b.empty_squares[(3,4)] = set(['2'])\n",
    "b.empty_squares[(4,6)] = set(['6'])\n",
    "b.empty_squares[(8,0)] = set(['6'])\n",
    "b.forward_solve()\n",
    "print(b)"
   ]
  },
  {
   "cell_type": "code",
   "execution_count": null,
   "id": "bf73b4af-2183-4962-98ed-347c0faf2e2b",
   "metadata": {},
   "outputs": [],
   "source": [
    "b.empty_squares[(1,2)] = set(['9'])\n",
    "b.empty_squares[(4,2)] = set(['3'])\n",
    "b.empty_squares[(5,4)] = set(['3'])\n",
    "b.empty_squares[(6,3)] = set(['6'])\n",
    "b.forward_solve()\n",
    "print(b)"
   ]
  },
  {
   "cell_type": "code",
   "execution_count": null,
   "id": "949553cf-3956-4c5c-8c9c-65d835178eef",
   "metadata": {},
   "outputs": [],
   "source": [
    "b.empty_squares[(5,1)] = set(['8'])\n",
    "b.forward_solve()\n",
    "print(b)"
   ]
  },
  {
   "cell_type": "code",
   "execution_count": null,
   "id": "8ffc3f3e-b26f-4269-a212-841d16e864ce",
   "metadata": {},
   "outputs": [],
   "source": [
    "for logline in b.solve_log:\n",
    "    print(logline)"
   ]
  },
  {
   "cell_type": "code",
   "execution_count": null,
   "id": "d69388e9-b4e0-4573-b605-7c6bc59314b8",
   "metadata": {},
   "outputs": [],
   "source": [
    "b.forward_solve()\n",
    "print(b)"
   ]
  },
  {
   "cell_type": "code",
   "execution_count": null,
   "id": "f3495e6c-4830-45ca-b348-b812d46d7364",
   "metadata": {},
   "outputs": [],
   "source": [
    "b.get_box_row(0)"
   ]
  },
  {
   "cell_type": "code",
   "execution_count": null,
   "id": "d1f64f16-4766-4d82-91b9-cae42dc36430",
   "metadata": {},
   "outputs": [],
   "source": [
    "b.get_box_col(0)"
   ]
  },
  {
   "cell_type": "code",
   "execution_count": null,
   "id": "a78f2ecb-f74b-47d2-9a50-eb7b8043088a",
   "metadata": {},
   "outputs": [],
   "source": [
    "# box_col == 0 means the first column of boxes, i.e. the first 3 columns\n",
    "\n",
    "digit_summary = hash_count(flatten(b.get_box_col(0)))\n",
    "digit_summary.pop('0')\n",
    "digit_summary\n",
    "digits_filled_in_2_boxes_out_of_3 = {key : val for key, val in digit_summary.items() if val==2}\n",
    "digits_filled_in_2_boxes_out_of_3"
   ]
  },
  {
   "cell_type": "code",
   "execution_count": null,
   "id": "e9463c86-c0d3-431e-a115-950bca910ada",
   "metadata": {},
   "outputs": [],
   "source": [
    "b.get_cols_containing_digit('4')"
   ]
  },
  {
   "cell_type": "code",
   "execution_count": null,
   "id": "78123378-9b92-43b3-b202-26d9d0dac82e",
   "metadata": {},
   "outputs": [],
   "source": [
    "b.get_box_col(0)"
   ]
  },
  {
   "cell_type": "code",
   "execution_count": null,
   "id": "d4f3ed84-17fd-4260-b4a1-fc34e7f3e091",
   "metadata": {},
   "outputs": [],
   "source": [
    "digit_summary_w_index = hash_count_bis(flatten(list(map(lambda x: list(enumerate(x)), b.get_box_col(0)))))\n",
    "digit_summary_w_index.pop('0')\n",
    "digit_summary_w_index\n",
    "digits_filled_in_2_boxes_out_of_3_idx = {key : val for key, val in digit_summary_w_index.items() if len(val)==2}\n",
    "digits_filled_in_2_boxes_out_of_3_idx"
   ]
  },
  {
   "cell_type": "code",
   "execution_count": null,
   "id": "c6660fb1-a0b9-46c9-a5cb-1630dc323103",
   "metadata": {},
   "outputs": [],
   "source": [
    "b.get_cols_containing_digit('4')"
   ]
  },
  {
   "cell_type": "code",
   "execution_count": null,
   "id": "d202005b-5065-4d05-86db-7af82bc948ee",
   "metadata": {},
   "outputs": [],
   "source": [
    "cols_in_box_col_0 = [0, 1, 2] "
   ]
  },
  {
   "cell_type": "code",
   "execution_count": null,
   "id": "7e0ca206-99d5-4746-b1e6-8c1a086dbcd3",
   "metadata": {},
   "outputs": [],
   "source": [
    "column_needs_digit4 = set(cols_in_box_col_0).difference(set(b.get_cols_containing_digit('4'))).pop()\n",
    "column_needs_digit4"
   ]
  },
  {
   "cell_type": "code",
   "execution_count": null,
   "id": "2c64fb83-1129-4e54-8b34-d101cfa547e2",
   "metadata": {},
   "outputs": [],
   "source": [
    "b.get_rows_containing_digit('4')"
   ]
  },
  {
   "cell_type": "code",
   "execution_count": null,
   "id": "dfdc1465-1ed3-440c-b51f-ed05f20bbd01",
   "metadata": {},
   "outputs": [],
   "source": [
    "b.get_cols_containing_digit('4')"
   ]
  },
  {
   "cell_type": "code",
   "execution_count": null,
   "id": "53782e22-d29c-4634-8148-701af0891f0b",
   "metadata": {},
   "outputs": [],
   "source": [
    "b.get_boxes_containing_digit('4')"
   ]
  },
  {
   "cell_type": "code",
   "execution_count": null,
   "id": "22a995e8-41bc-4811-948f-6e1d94eeb0c3",
   "metadata": {},
   "outputs": [],
   "source": [
    "boxes_in_box_col0  =[0, 3, 6]"
   ]
  },
  {
   "cell_type": "code",
   "execution_count": null,
   "id": "117b1c7d-17a4-4235-9eb3-b5654e8bc7ed",
   "metadata": {},
   "outputs": [],
   "source": [
    "box_neeeds_digit4 = set(boxes_in_box_col0).difference(set(b.get_boxes_containing_digit('4'))).pop()\n",
    "box_neeeds_digit4"
   ]
  },
  {
   "cell_type": "code",
   "execution_count": null,
   "id": "1e0e0244-f11d-423b-97ba-e4aff36bf5bb",
   "metadata": {},
   "outputs": [],
   "source": [
    "b.get_box(box_neeeds_digit4)"
   ]
  },
  {
   "cell_type": "code",
   "execution_count": null,
   "id": "2d5dd0e2-fc7b-4f12-9cd4-0c34a7783d2b",
   "metadata": {},
   "outputs": [],
   "source": [
    "b.get_col(column_needs_digit4)"
   ]
  },
  {
   "cell_type": "code",
   "execution_count": null,
   "id": "501f9c25-cf67-4906-9f69-c30c9e1910c2",
   "metadata": {},
   "outputs": [],
   "source": [
    "hash_count_bis(flatten(list(map(lambda x: list(enumerate(x)), b.get_box_col(0)))))"
   ]
  },
  {
   "cell_type": "code",
   "execution_count": null,
   "id": "03b5e9c4-41d5-4320-9256-aa692e0f4e00",
   "metadata": {},
   "outputs": [],
   "source": [
    "list(map(lambda x: '2' in x, b.rows))"
   ]
  },
  {
   "cell_type": "code",
   "execution_count": null,
   "id": "31dc4556-f95e-4321-ac61-44e3785a6351",
   "metadata": {},
   "outputs": [],
   "source": [
    "[i for i, x in enumerate(map(lambda x: '2' in x, b.get_cols())) if x]\n"
   ]
  },
  {
   "cell_type": "code",
   "execution_count": null,
   "id": "ebf194c5-4b5f-4550-b511-47f72045046d",
   "metadata": {},
   "outputs": [],
   "source": [
    "list(filter(lambda x: '2' in x, b.rows))"
   ]
  },
  {
   "cell_type": "code",
   "execution_count": null,
   "id": "9b69ac3a-7941-44aa-b9b0-183140febfd7",
   "metadata": {},
   "outputs": [],
   "source": [
    "list(map(lambda x: x[0] if '2' in x[1] else None, enumerate(b.rows)))"
   ]
  },
  {
   "cell_type": "code",
   "execution_count": null,
   "id": "2de4978b-0180-489f-9a64-65debad0f8c3",
   "metadata": {},
   "outputs": [],
   "source": [
    "b.get_boxes_containing_digit('2')"
   ]
  },
  {
   "cell_type": "code",
   "execution_count": null,
   "id": "b7963e1d-0902-49c7-ac3f-3e406e0fe038",
   "metadata": {},
   "outputs": [],
   "source": [
    "list(enumerate(b.rows))"
   ]
  },
  {
   "cell_type": "code",
   "execution_count": null,
   "id": "b0976ec6-6ba2-4e90-9a28-73404dd80410",
   "metadata": {},
   "outputs": [],
   "source": [
    "b.get_two_candidate_squares()"
   ]
  },
  {
   "cell_type": "code",
   "execution_count": null,
   "id": "addd9313-66f9-4674-aa2d-ff9e79fd8a8e",
   "metadata": {},
   "outputs": [],
   "source": [
    "b.set_square((0,3), 9)"
   ]
  },
  {
   "cell_type": "code",
   "execution_count": null,
   "id": "e3aa95df-2d82-4b4e-b59f-9f41b7465a04",
   "metadata": {},
   "outputs": [],
   "source": [
    "b.update_candidate_notes()"
   ]
  },
  {
   "cell_type": "code",
   "execution_count": null,
   "id": "c58a2b95-7e02-411d-9261-e91bc660b8f3",
   "metadata": {},
   "outputs": [],
   "source": [
    "b.empty_squares.pop((0,3))"
   ]
  },
  {
   "cell_type": "code",
   "execution_count": null,
   "id": "be14d736-d259-48f2-a830-1f1304710373",
   "metadata": {},
   "outputs": [],
   "source": [
    "print(''.join(b.rows[0]))"
   ]
  },
  {
   "cell_type": "code",
   "execution_count": null,
   "id": "08d0d949-e7b3-4f64-9db9-95734a6515bc",
   "metadata": {},
   "outputs": [],
   "source": [
    "# print(f'{b.name}\\n' + '\\n'.join(list(map(lambda r: ''.join(r), b.rows))))\n",
    "print(b.export_boardstring())"
   ]
  },
  {
   "cell_type": "code",
   "execution_count": null,
   "id": "91ef80e3-319a-4cba-956e-d42000e36b59",
   "metadata": {},
   "outputs": [],
   "source": [
    "#for sq in b.empty_squares:\n",
    "#    b.calc_candidates(sq)\n",
    "#b.update_candidate_notes()\n",
    "hash_count(list(map(len, b.empty_squares.values())), sort=True)"
   ]
  },
  {
   "cell_type": "code",
   "execution_count": null,
   "id": "f0dac5ac-bac0-43e2-805a-2ff28461dfc6",
   "metadata": {},
   "outputs": [],
   "source": [
    "print(len(b.empty_squares))"
   ]
  },
  {
   "cell_type": "code",
   "execution_count": null,
   "id": "3fba1d86-175f-4945-9cdb-0e1996f2431b",
   "metadata": {},
   "outputs": [],
   "source": [
    "b.fill_in_solved_squares()"
   ]
  },
  {
   "cell_type": "code",
   "execution_count": null,
   "id": "16ec8e89-baaf-46ba-b82e-21bccd2c4c54",
   "metadata": {},
   "outputs": [],
   "source": [
    "print(b)"
   ]
  },
  {
   "cell_type": "code",
   "execution_count": null,
   "id": "14955faf-0377-4a43-8a6e-c9668dd147cf",
   "metadata": {},
   "outputs": [],
   "source": [
    "b.empty_squares"
   ]
  },
  {
   "cell_type": "code",
   "execution_count": null,
   "id": "59972000-db92-494c-b121-112f90f13689",
   "metadata": {},
   "outputs": [],
   "source": [
    "res = {key : val for key, val in b.empty_squares.items()\n",
    "                   if len(val)==1}\n",
    "res"
   ]
  },
  {
   "cell_type": "code",
   "execution_count": null,
   "id": "47be0997-ed4f-4c65-a551-8a413db7a60f",
   "metadata": {},
   "outputs": [],
   "source": [
    "for chunk in boardchunks:\n",
    "    b = Board(chunk)\n",
    "    b.forward_solve()\n",
    "    print(b.name)\n",
    "    for logline in b.solve_log:\n",
    "        print(logline)\n",
    "    "
   ]
  },
  {
   "cell_type": "code",
   "execution_count": null,
   "id": "5c7f7fb4-e949-46b8-8f81-cab0b60a1377",
   "metadata": {},
   "outputs": [],
   "source": []
  },
  {
   "cell_type": "code",
   "execution_count": null,
   "id": "ab4b3da1-5461-4ed8-955d-72a0b32ae3b4",
   "metadata": {},
   "outputs": [],
   "source": [
    "boards = {}\n",
    "\n",
    "key = 'Grid 01'\n",
    "b = []\n",
    "\n",
    "boardlines = 'Grid 01\\n'\n",
    "with open(infile) as f:\n",
    "    for line in f:\n",
    "        linestr = line.rstrip()\n",
    "#        print(linestr)\n",
    "        \n",
    "        if linestr.startswith('Grid'):\n",
    "            boards[key] = b\n",
    "            key = linestr\n",
    "            b = []\n",
    "        else:\n",
    "            linelist = list(linestr)\n",
    "            b.append(linelist)\n",
    "#            print(linelist)\n",
    "boards"
   ]
  },
  {
   "cell_type": "code",
   "execution_count": null,
   "id": "764b2980-a821-4d6e-b161-e2373df063f7",
   "metadata": {},
   "outputs": [],
   "source": [
    "Box 0:\n",
    "[self.rows[0][0:3], self.rows[1][0:3], self.rows[2][0:3] ]\n",
    "Box 1:\n",
    "[self.rows[0][3:6], self.rows[1][3:6], self.rows[2][3:6] ]\n",
    "\n",
    "Box 2:\n",
    "[self.rows[0][6:9], self.rows[1][6:9], self.rows[2][6:9] ]\n",
    "\n",
    "Box 3:\n",
    "[self.rows[3][0:3], self.rows[4][0:3], self.rows[5][0:3] ]\n",
    "\n",
    "Box 6:\n",
    "[self.rows[6][0:3], self.rows[7][0:3], self.rows[8][0:3] ]\n",
    "Box 7:\n",
    "[self.rows[6][3:6], self.rows[7][3:6], self.rows[8][3:6] ]\n"
   ]
  },
  {
   "cell_type": "code",
   "execution_count": null,
   "id": "a278f0e9-3af8-4e48-b77f-b88bc959762a",
   "metadata": {},
   "outputs": [],
   "source": [
    "for box in [0, 1, 2, 3, 4, 5, 6, 7, 8]:\n",
    "#    print(f'box: {box} b_row:{box//3} b_col:{box%3}')\n",
    "    print(f'({box//3}, {box%3}) : {box},')"
   ]
  },
  {
   "cell_type": "code",
   "execution_count": null,
   "id": "30cef978-25a2-4f5b-8325-d5e41ee2da51",
   "metadata": {},
   "outputs": [],
   "source": [
    "b.rows[0:3]"
   ]
  },
  {
   "cell_type": "code",
   "execution_count": null,
   "id": "9d379ade-46dd-4108-a527-e30571799cc9",
   "metadata": {},
   "outputs": [],
   "source": [
    "b.rows"
   ]
  },
  {
   "cell_type": "code",
   "execution_count": null,
   "id": "672319cb-c98c-4e62-960e-48e437b511ee",
   "metadata": {},
   "outputs": [],
   "source": [
    "b.get_box(3)"
   ]
  },
  {
   "cell_type": "code",
   "execution_count": null,
   "id": "569604c5-ad01-46a5-83e7-a18879ae54f5",
   "metadata": {},
   "outputs": [],
   "source": [
    "list(map(lambda x: b.get_col(x), range(0,9)))"
   ]
  },
  {
   "cell_type": "code",
   "execution_count": null,
   "id": "47d23de3-241d-46cd-a1b9-7b9fb40fb100",
   "metadata": {},
   "outputs": [],
   "source": [
    "b.rows"
   ]
  },
  {
   "cell_type": "code",
   "execution_count": null,
   "id": "fd390acc-022c-4b69-9ae2-c5a39da86775",
   "metadata": {},
   "outputs": [],
   "source": [
    "b.get_rows()"
   ]
  },
  {
   "cell_type": "code",
   "execution_count": null,
   "id": "0bae1004-0011-4566-b4ab-1dc1130bc00c",
   "metadata": {},
   "outputs": [],
   "source": [
    "b.get_cols()"
   ]
  },
  {
   "cell_type": "code",
   "execution_count": null,
   "id": "6d750d5a-8408-4c83-8bc8-32c7d3ca3a84",
   "metadata": {},
   "outputs": [],
   "source": [
    "b.get_boxes()"
   ]
  },
  {
   "cell_type": "code",
   "execution_count": null,
   "id": "5669fa6d-41eb-45df-bd2a-ca8787573747",
   "metadata": {},
   "outputs": [],
   "source": [
    "for r in range(0,9):\n",
    "    for c in range(0,9):\n",
    "        print( (r,c, b.get_box_for_square( (r,c) )) )"
   ]
  },
  {
   "cell_type": "code",
   "execution_count": null,
   "id": "cc654d20-5599-4b17-bc3e-b4236f91a2a0",
   "metadata": {},
   "outputs": [],
   "source": [
    "b.board_map"
   ]
  },
  {
   "cell_type": "code",
   "execution_count": null,
   "id": "8c78afe8-2b1f-4a57-84ab-164ecd6b3a46",
   "metadata": {},
   "outputs": [],
   "source": [
    "j = invert_map(b.board_map)\n",
    "j.pop('0')\n",
    "j"
   ]
  },
  {
   "cell_type": "code",
   "execution_count": null,
   "id": "efe28ca4-6557-49b1-933a-ec74d750b344",
   "metadata": {},
   "outputs": [],
   "source": []
  },
  {
   "cell_type": "code",
   "execution_count": 29,
   "id": "4988c9ac-da09-4ed8-bf6a-65cfb4b50887",
   "metadata": {},
   "outputs": [],
   "source": [
    "t = '''\n",
    "\t<text x=\"200\" y=\"200\" class=\"note\">1,1</text>\n",
    "\t<text x=\"300\" y=\"200\" class=\"note\">1,2</text>\n",
    "\t<text x=\"200\" y=\"300\" class=\"note\">2,1</text>\n",
    "\t<text x=\"300\" y=\"300\" class=\"note\">2,2</text>\n",
    "'''\n"
   ]
  },
  {
   "cell_type": "code",
   "execution_count": 36,
   "id": "defce622-1277-4ec9-9e70-7ad8c878e4a3",
   "metadata": {},
   "outputs": [
    {
     "name": "stdout",
     "output_type": "stream",
     "text": [
      "<text x=\"400\" y=\"400\" class=\"note\">3,3</text>\n",
      "<text x=\"500\" y=\"400\" class=\"note\">3,4</text>\n",
      "<text x=\"600\" y=\"400\" class=\"note\">3,5</text>\n",
      "<text x=\"700\" y=\"400\" class=\"note\">3,6</text>\n",
      "<text x=\"800\" y=\"400\" class=\"note\">3,7</text>\n",
      "<text x=\"900\" y=\"400\" class=\"note\">3,8</text>\n",
      "<text x=\"400\" y=\"500\" class=\"note\">4,3</text>\n",
      "<text x=\"500\" y=\"500\" class=\"note\">4,4</text>\n",
      "<text x=\"600\" y=\"500\" class=\"note\">4,5</text>\n",
      "<text x=\"700\" y=\"500\" class=\"note\">4,6</text>\n",
      "<text x=\"800\" y=\"500\" class=\"note\">4,7</text>\n",
      "<text x=\"900\" y=\"500\" class=\"note\">4,8</text>\n",
      "<text x=\"400\" y=\"600\" class=\"note\">5,3</text>\n",
      "<text x=\"500\" y=\"600\" class=\"note\">5,4</text>\n",
      "<text x=\"600\" y=\"600\" class=\"note\">5,5</text>\n",
      "<text x=\"700\" y=\"600\" class=\"note\">5,6</text>\n",
      "<text x=\"800\" y=\"600\" class=\"note\">5,7</text>\n",
      "<text x=\"900\" y=\"600\" class=\"note\">5,8</text>\n",
      "<text x=\"400\" y=\"700\" class=\"note\">6,3</text>\n",
      "<text x=\"500\" y=\"700\" class=\"note\">6,4</text>\n",
      "<text x=\"600\" y=\"700\" class=\"note\">6,5</text>\n",
      "<text x=\"700\" y=\"700\" class=\"note\">6,6</text>\n",
      "<text x=\"800\" y=\"700\" class=\"note\">6,7</text>\n",
      "<text x=\"900\" y=\"700\" class=\"note\">6,8</text>\n",
      "<text x=\"400\" y=\"800\" class=\"note\">7,3</text>\n",
      "<text x=\"500\" y=\"800\" class=\"note\">7,4</text>\n",
      "<text x=\"600\" y=\"800\" class=\"note\">7,5</text>\n",
      "<text x=\"700\" y=\"800\" class=\"note\">7,6</text>\n",
      "<text x=\"800\" y=\"800\" class=\"note\">7,7</text>\n",
      "<text x=\"900\" y=\"800\" class=\"note\">7,8</text>\n",
      "<text x=\"400\" y=\"900\" class=\"note\">8,3</text>\n",
      "<text x=\"500\" y=\"900\" class=\"note\">8,4</text>\n",
      "<text x=\"600\" y=\"900\" class=\"note\">8,5</text>\n",
      "<text x=\"700\" y=\"900\" class=\"note\">8,6</text>\n",
      "<text x=\"800\" y=\"900\" class=\"note\">8,7</text>\n",
      "<text x=\"900\" y=\"900\" class=\"note\">8,8</text>\n"
     ]
    }
   ],
   "source": [
    "svg_sq = '<text x=\"300\" y=\"200\" class=\"note\">1,2</text>'\n",
    "for r in range(3,9):\n",
    "    for c in range(3,9):\n",
    "        # print(r,c)\n",
    "        svg_sq = f'<text x=\"{100*(c+1)}\" y=\"{100*(r+1)}\" class=\"note\">{r},{c}</text>'\n",
    "        print(svg_sq)\n",
    "        "
   ]
  },
  {
   "cell_type": "code",
   "execution_count": 39,
   "id": "8bd194ef-ff1a-400e-b5a6-bf8a20473727",
   "metadata": {},
   "outputs": [
    {
     "name": "stdout",
     "output_type": "stream",
     "text": [
      "<text x=\"100\" y=\"100\">2</text>\n",
      "<text x=\"500\" y=\"100\">8</text>\n",
      "<text x=\"700\" y=\"100\">3</text>\n",
      "<text x=\"200\" y=\"200\">6</text>\n",
      "<text x=\"500\" y=\"200\">7</text>\n",
      "<text x=\"800\" y=\"200\">8</text>\n",
      "<text x=\"900\" y=\"200\">4</text>\n",
      "<text x=\"200\" y=\"300\">3</text>\n",
      "<text x=\"400\" y=\"300\">5</text>\n",
      "<text x=\"700\" y=\"300\">2</text>\n",
      "<text x=\"900\" y=\"300\">9</text>\n",
      "<text x=\"400\" y=\"400\">1</text>\n",
      "<text x=\"600\" y=\"400\">5</text>\n",
      "<text x=\"700\" y=\"400\">4</text>\n",
      "<text x=\"900\" y=\"400\">8</text>\n",
      "<text x=\"100\" y=\"600\">4</text>\n",
      "<text x=\"300\" y=\"600\">2</text>\n",
      "<text x=\"400\" y=\"600\">7</text>\n",
      "<text x=\"600\" y=\"600\">6</text>\n",
      "<text x=\"100\" y=\"700\">3</text>\n",
      "<text x=\"300\" y=\"700\">1</text>\n",
      "<text x=\"600\" y=\"700\">7</text>\n",
      "<text x=\"800\" y=\"700\">4</text>\n",
      "<text x=\"100\" y=\"800\">7</text>\n",
      "<text x=\"200\" y=\"800\">2</text>\n",
      "<text x=\"500\" y=\"800\">4</text>\n",
      "<text x=\"800\" y=\"800\">6</text>\n",
      "<text x=\"300\" y=\"900\">4</text>\n",
      "<text x=\"500\" y=\"900\">1</text>\n",
      "<text x=\"900\" y=\"900\">3</text>\n"
     ]
    }
   ],
   "source": [
    "for sq in b.board_map:\n",
    "    # print(sq)\n",
    "    if b.board_map[sq] != '0':\n",
    "        (row,col,box) = sq\n",
    "        svg_sq = f'<text x=\"{100*(col+1)}\" y=\"{100*(row+1)}\">{b.board_map[sq]}</text>'\n",
    "        print(svg_sq)"
   ]
  },
  {
   "cell_type": "code",
   "execution_count": 40,
   "id": "4429c332-9ed6-4c89-81c4-413d96c670bd",
   "metadata": {},
   "outputs": [
    {
     "data": {
      "text/plain": [
       "'Grid 02'"
      ]
     },
     "execution_count": 40,
     "metadata": {},
     "output_type": "execute_result"
    }
   ],
   "source": [
    "b.name"
   ]
  },
  {
   "cell_type": "code",
   "execution_count": null,
   "id": "84af34ff-5a5d-47c4-8bb7-67a3033e0cc8",
   "metadata": {},
   "outputs": [],
   "source": [
    "</g>\n",
    "\n",
    "</svg>\n"
   ]
  },
  {
   "cell_type": "code",
   "execution_count": 45,
   "id": "b7994e8b-b6ac-479a-b195-b269779b7f39",
   "metadata": {},
   "outputs": [],
   "source": [
    "with open('test_out.svg', 'w') as outfile:\n",
    "    with open('board_template_basefile.svg', 'r') as infile:\n",
    "        outfile.write(infile.read())\n",
    "        for sq in b.board_map:\n",
    "            # print(sq)\n",
    "            if b.board_map[sq] != '0':\n",
    "                (row,col,box) = sq\n",
    "                svg_sq = f'<text x=\"{100*(col+1)}\" y=\"{100*(row+1)}\">{b.board_map[sq]}</text>'\n",
    "                outfile.write(svg_sq)\n",
    "        outfile.write('</g></svg>')"
   ]
  },
  {
   "cell_type": "code",
   "execution_count": 91,
   "id": "41a5e8b2-85e9-4b85-84d3-727e2c97af68",
   "metadata": {},
   "outputs": [],
   "source": [
    "b.export_svg_board(show_notes=True)"
   ]
  },
  {
   "cell_type": "code",
   "execution_count": 58,
   "id": "657291a2-b6b7-4d83-9068-8e5deabff6dc",
   "metadata": {},
   "outputs": [],
   "source": [
    "d={}\n",
    "for e in b.empty_squares[0,1]:\n",
    "    d[e]=e"
   ]
  },
  {
   "cell_type": "code",
   "execution_count": 67,
   "id": "927bf110-4e89-4616-a1c1-5a4461d47e20",
   "metadata": {},
   "outputs": [],
   "source": [
    "n = '''\n",
    "<text x=\"200\" y=\"60\" class=\"note\">1\t&#160; &#160;</text>\n",
    "<text x=\"200\" y=\"90\" class=\"note\">4 5 &#160;</text>\n",
    "<text x=\"200\" y=\"120\" class=\"note\">7 &#160; 9</text>\n",
    "'''\n",
    "(row, col) = (0,1)\n",
    "n = f'''\n",
    "<text x=\"{100*(col+1)}\" y=\"{100*(row+1)-40}\" class=\"note\">{d.get('1', '&#160;')} {d.get('2', '&#160;')} {d.get('3', '&#160;')}</text>\n",
    "<text x=\"{100*(col+1)}\" y=\"{100*(row+1)-10}\" class=\"note\">{d.get('4', '&#160;')} {d.get('5', '&#160;')} {d.get('6', '&#160;')}</text>\n",
    "<text x=\"{100*(col+1)}\" y=\"{100*(row+1)+20}\" class=\"note\">{d.get('7', '&#160;')} {d.get('8', '&#160;')} {d.get('9', '&#160;')}</text>\n",
    "'''\n"
   ]
  },
  {
   "cell_type": "code",
   "execution_count": 68,
   "id": "9353e36c-18bc-4c3a-b55c-0fd68b534e21",
   "metadata": {},
   "outputs": [
    {
     "name": "stdout",
     "output_type": "stream",
     "text": [
      "\n",
      "<text x=\"200\" y=\"60\" class=\"note\">1 &#160; &#160;</text>\n",
      "<text x=\"200\" y=\"90\" class=\"note\">4 5 &#160;</text>\n",
      "<text x=\"200\" y=\"120\" class=\"note\">7 &#160; 9</text>\n",
      "\n"
     ]
    }
   ],
   "source": [
    "print(n)"
   ]
  },
  {
   "cell_type": "code",
   "execution_count": 127,
   "id": "e5847c77-6c70-48af-8730-2bfb413a253f",
   "metadata": {},
   "outputs": [],
   "source": [
    "b.export_svg_board(filename='Grid 02 pre-solve.svg', show_notes=True)"
   ]
  },
  {
   "cell_type": "code",
   "execution_count": 128,
   "id": "e858f7fe-6ab9-4275-8c13-413758b15148",
   "metadata": {},
   "outputs": [],
   "source": [
    "b.forward_solve()"
   ]
  },
  {
   "cell_type": "code",
   "execution_count": 130,
   "id": "7968f73d-f6e4-42d8-8178-5a02b8945cc6",
   "metadata": {},
   "outputs": [
    {
     "ename": "KeyError",
     "evalue": "(2, 4)",
     "output_type": "error",
     "traceback": [
      "\u001b[1;31m---------------------------------------------------------------------------\u001b[0m",
      "\u001b[1;31mKeyError\u001b[0m                                  Traceback (most recent call last)",
      "Cell \u001b[1;32mIn[130], line 1\u001b[0m\n\u001b[1;32m----> 1\u001b[0m \u001b[43mb\u001b[49m\u001b[38;5;241;43m.\u001b[39;49m\u001b[43mexport_svg_board\u001b[49m\u001b[43m(\u001b[49m\u001b[43mfilename\u001b[49m\u001b[38;5;241;43m=\u001b[39;49m\u001b[38;5;124;43m'\u001b[39;49m\u001b[38;5;124;43mGrid 02 post-solve.svg\u001b[39;49m\u001b[38;5;124;43m'\u001b[39;49m\u001b[43m,\u001b[49m\u001b[43m \u001b[49m\u001b[43mshow_notes\u001b[49m\u001b[38;5;241;43m=\u001b[39;49m\u001b[38;5;28;43;01mTrue\u001b[39;49;00m\u001b[43m)\u001b[49m\n",
      "Cell \u001b[1;32mIn[121], line 162\u001b[0m, in \u001b[0;36mBoard.export_svg_board\u001b[1;34m(self, filename, show_notes)\u001b[0m\n\u001b[0;32m    160\u001b[0m     outfile\u001b[38;5;241m.\u001b[39mwrite(svg_sq)\n\u001b[0;32m    161\u001b[0m \u001b[38;5;28;01melif\u001b[39;00m show_notes:\n\u001b[1;32m--> 162\u001b[0m     \u001b[38;5;28;01mif\u001b[39;00m \u001b[38;5;28;43mself\u001b[39;49m\u001b[38;5;241;43m.\u001b[39;49m\u001b[43mempty_squares\u001b[49m\u001b[43m[\u001b[49m\u001b[43mrow\u001b[49m\u001b[43m,\u001b[49m\u001b[43mcol\u001b[49m\u001b[43m]\u001b[49m:\n\u001b[0;32m    163\u001b[0m         d\u001b[38;5;241m=\u001b[39m{}\n\u001b[0;32m    164\u001b[0m         \u001b[38;5;28;01mfor\u001b[39;00m e \u001b[38;5;129;01min\u001b[39;00m \u001b[38;5;28mself\u001b[39m\u001b[38;5;241m.\u001b[39mempty_squares[(row,col)]:\n",
      "\u001b[1;31mKeyError\u001b[0m: (2, 4)"
     ]
    }
   ],
   "source": [
    "b.export_svg_board(filename='Grid 02 post-solve.svg', show_notes=True)"
   ]
  },
  {
   "cell_type": "code",
   "execution_count": 129,
   "id": "75a1e50c-fa4c-4fc4-9114-7d085607df13",
   "metadata": {},
   "outputs": [
    {
     "name": "stdout",
     "output_type": "stream",
     "text": [
      "Grid 02\n",
      "[['2', '0', '0', '0', '8', '0', '3', '0', '0'],\n",
      " ['0', '6', '0', '0', '7', '0', '0', '8', '4'],\n",
      " ['0', '3', '0', '5', '0', '0', '2', '0', '9'],\n",
      " ['0', '0', '0', '1', '0', '5', '4', '0', '8'],\n",
      " ['0', '0', '0', '0', '0', '0', '0', '0', '0'],\n",
      " ['4', '0', '2', '7', '0', '6', '0', '0', '0'],\n",
      " ['3', '0', '1', '0', '0', '7', '0', '4', '0'],\n",
      " ['7', '2', '0', '0', '4', '0', '0', '6', '0'],\n",
      " ['0', '0', '4', '0', '1', '0', '0', '0', '3']]\n"
     ]
    }
   ],
   "source": [
    "print(b)"
   ]
  },
  {
   "cell_type": "code",
   "execution_count": 131,
   "id": "e5016d86-bc52-42f3-a25e-b35f518c7a71",
   "metadata": {},
   "outputs": [
    {
     "data": {
      "text/plain": [
       "{(0, 1): {'1', '4', '5', '7', '9'},\n",
       " (0, 2): {'5', '7', '9'},\n",
       " (0, 3): {'4', '6', '9'},\n",
       " (0, 5): {'1', '4', '9'},\n",
       " (0, 7): {'1', '5', '7'},\n",
       " (0, 8): {'1', '5', '6', '7'},\n",
       " (1, 0): {'1', '5', '9'},\n",
       " (1, 2): {'5', '9'},\n",
       " (1, 3): {'2', '3', '9'},\n",
       " (1, 5): {'1', '2', '3', '9'},\n",
       " (1, 6): {'1', '5'},\n",
       " (2, 0): {'1', '8'},\n",
       " (2, 2): {'7', '8'},\n",
       " (2, 5): {'1', '4'},\n",
       " (2, 7): {'1', '7'},\n",
       " (3, 0): {'6', '9'},\n",
       " (3, 1): {'7', '9'},\n",
       " (3, 2): {'3', '6', '7', '9'},\n",
       " (3, 4): {'2', '3', '9'},\n",
       " (3, 7): {'2', '3', '7', '9'},\n",
       " (4, 0): {'1', '5', '6', '8', '9'},\n",
       " (4, 1): {'1', '5', '7', '8', '9'},\n",
       " (4, 2): {'3', '5', '6', '7', '8', '9'},\n",
       " (4, 3): {'2', '3', '4', '8', '9'},\n",
       " (4, 4): {'2', '3', '9'},\n",
       " (4, 5): {'2', '3', '4', '8', '9'},\n",
       " (4, 6): {'1', '5', '6', '7', '9'},\n",
       " (4, 7): {'1', '2', '3', '5', '7', '9'},\n",
       " (4, 8): {'1', '2', '5', '6', '7'},\n",
       " (5, 1): {'1', '5', '8', '9'},\n",
       " (5, 4): {'3', '9'},\n",
       " (5, 6): {'1', '5', '9'},\n",
       " (5, 7): {'1', '3', '5', '9'},\n",
       " (5, 8): {'1', '5'},\n",
       " (6, 1): {'5', '8', '9'},\n",
       " (6, 3): {'2', '6', '8', '9'},\n",
       " (6, 4): {'2', '5', '6', '9'},\n",
       " (6, 6): {'5', '8', '9'},\n",
       " (6, 8): {'2', '5'},\n",
       " (7, 2): {'5', '8', '9'},\n",
       " (7, 3): {'3', '8', '9'},\n",
       " (7, 5): {'3', '8', '9'},\n",
       " (7, 6): {'1', '5', '8', '9'},\n",
       " (7, 8): {'1', '5'},\n",
       " (8, 0): {'5', '6', '8', '9'},\n",
       " (8, 1): {'5', '8', '9'},\n",
       " (8, 3): {'2', '6', '8', '9'},\n",
       " (8, 5): {'2', '8', '9'},\n",
       " (8, 6): {'5', '7', '8', '9'},\n",
       " (8, 7): {'2', '5', '7', '9'}}"
      ]
     },
     "execution_count": 131,
     "metadata": {},
     "output_type": "execute_result"
    }
   ],
   "source": [
    "b.empty_squares"
   ]
  },
  {
   "cell_type": "code",
   "execution_count": 133,
   "id": "e142e8d4-d931-4f3f-b231-01f6f7f4a4fe",
   "metadata": {},
   "outputs": [
    {
     "name": "stdout",
     "output_type": "stream",
     "text": [
      "Grid 02\n",
      "[['2', '0', '0', '0', '8', '0', '3', '0', '0'],\n",
      " ['0', '6', '0', '0', '7', '0', '0', '8', '4'],\n",
      " ['0', '3', '0', '5', '0', '0', '2', '0', '9'],\n",
      " ['0', '0', '0', '1', '0', '5', '4', '0', '8'],\n",
      " ['0', '0', '0', '0', '0', '0', '0', '0', '0'],\n",
      " ['4', '0', '2', '7', '0', '6', '0', '0', '0'],\n",
      " ['3', '0', '1', '0', '0', '7', '0', '4', '0'],\n",
      " ['7', '2', '0', '0', '4', '0', '0', '6', '0'],\n",
      " ['0', '0', '4', '0', '1', '0', '0', '0', '3']]\n"
     ]
    }
   ],
   "source": [
    "print(b)"
   ]
  },
  {
   "cell_type": "code",
   "execution_count": 134,
   "id": "2c73f67c-38e1-44d3-9876-cd555e36ddde",
   "metadata": {},
   "outputs": [
    {
     "data": {
      "text/plain": [
       "{}"
      ]
     },
     "execution_count": 134,
     "metadata": {},
     "output_type": "execute_result"
    }
   ],
   "source": [
    "b.get_solved_squares()"
   ]
  },
  {
   "cell_type": "code",
   "execution_count": 209,
   "id": "e3dd6b10-915a-4c54-ac20-4baa79dee851",
   "metadata": {},
   "outputs": [
    {
     "data": {
      "text/plain": [
       "{(0, 0, 0): '2',\n",
       " (0, 1, 0): '0',\n",
       " (0, 2, 0): '0',\n",
       " (0, 3, 1): '0',\n",
       " (0, 4, 1): '8',\n",
       " (0, 5, 1): '0',\n",
       " (0, 6, 2): '3',\n",
       " (0, 7, 2): '0',\n",
       " (0, 8, 2): '0',\n",
       " (1, 0, 0): '0',\n",
       " (1, 1, 0): '6',\n",
       " (1, 2, 0): '0',\n",
       " (1, 3, 1): '0',\n",
       " (1, 4, 1): '7',\n",
       " (1, 5, 1): '0',\n",
       " (1, 6, 2): '0',\n",
       " (1, 7, 2): '8',\n",
       " (1, 8, 2): '4',\n",
       " (2, 0, 0): '0',\n",
       " (2, 1, 0): '3',\n",
       " (2, 2, 0): '0',\n",
       " (2, 3, 1): '5',\n",
       " (2, 4, 1): '6',\n",
       " (2, 5, 1): '0',\n",
       " (2, 6, 2): '2',\n",
       " (2, 7, 2): '0',\n",
       " (2, 8, 2): '9',\n",
       " (3, 0, 3): '0',\n",
       " (3, 1, 3): '0',\n",
       " (3, 2, 3): '0',\n",
       " (3, 3, 4): '1',\n",
       " (3, 4, 4): '0',\n",
       " (3, 5, 4): '5',\n",
       " (3, 6, 5): '4',\n",
       " (3, 7, 5): '0',\n",
       " (3, 8, 5): '8',\n",
       " (4, 0, 3): '0',\n",
       " (4, 1, 3): '0',\n",
       " (4, 2, 3): '0',\n",
       " (4, 3, 4): '0',\n",
       " (4, 4, 4): '0',\n",
       " (4, 5, 4): '0',\n",
       " (4, 6, 5): '0',\n",
       " (4, 7, 5): '0',\n",
       " (4, 8, 5): '0',\n",
       " (5, 0, 3): '4',\n",
       " (5, 1, 3): '0',\n",
       " (5, 2, 3): '2',\n",
       " (5, 3, 4): '7',\n",
       " (5, 4, 4): '0',\n",
       " (5, 5, 4): '6',\n",
       " (5, 6, 5): '0',\n",
       " (5, 7, 5): '0',\n",
       " (5, 8, 5): '0',\n",
       " (6, 0, 6): '3',\n",
       " (6, 1, 6): '0',\n",
       " (6, 2, 6): '1',\n",
       " (6, 3, 7): '0',\n",
       " (6, 4, 7): '0',\n",
       " (6, 5, 7): '7',\n",
       " (6, 6, 8): '0',\n",
       " (6, 7, 8): '4',\n",
       " (6, 8, 8): '0',\n",
       " (7, 0, 6): '7',\n",
       " (7, 1, 6): '2',\n",
       " (7, 2, 6): '0',\n",
       " (7, 3, 7): '0',\n",
       " (7, 4, 7): '4',\n",
       " (7, 5, 7): '0',\n",
       " (7, 6, 8): '0',\n",
       " (7, 7, 8): '6',\n",
       " (7, 8, 8): '0',\n",
       " (8, 0, 6): '0',\n",
       " (8, 1, 6): '0',\n",
       " (8, 2, 6): '4',\n",
       " (8, 3, 7): '0',\n",
       " (8, 4, 7): '1',\n",
       " (8, 5, 7): '0',\n",
       " (8, 6, 8): '0',\n",
       " (8, 7, 8): '0',\n",
       " (8, 8, 8): '3'}"
      ]
     },
     "execution_count": 209,
     "metadata": {},
     "output_type": "execute_result"
    }
   ],
   "source": [
    "b.board_map"
   ]
  },
  {
   "cell_type": "code",
   "execution_count": 211,
   "id": "7013b9e3-f394-4094-8187-aed44c1360f7",
   "metadata": {},
   "outputs": [
    {
     "data": {
      "text/plain": [
       "[['2', '0', '0', '0', '8', '0', '3', '0', '0'],\n",
       " ['0', '6', '0', '0', '7', '0', '0', '8', '4'],\n",
       " ['0', '3', '0', '5', '6', '0', '2', '0', '9'],\n",
       " ['0', '0', '0', '1', '0', '5', '4', '0', '8'],\n",
       " ['0', '0', '0', '0', '0', '0', '0', '0', '0'],\n",
       " ['4', '0', '2', '7', '0', '6', '0', '0', '0'],\n",
       " ['3', '0', '1', '0', '0', '7', '0', '4', '0'],\n",
       " ['7', '2', '0', '0', '4', '0', '0', '6', '0'],\n",
       " ['0', '0', '4', '0', '1', '0', '0', '0', '3']]"
      ]
     },
     "execution_count": 211,
     "metadata": {},
     "output_type": "execute_result"
    }
   ],
   "source": [
    "[b.get_row(r) for r in range(0,9)]"
   ]
  },
  {
   "cell_type": "code",
   "execution_count": 212,
   "id": "b736929a-64f4-4b9b-b1ab-47a1cd8a8e03",
   "metadata": {},
   "outputs": [
    {
     "name": "stdout",
     "output_type": "stream",
     "text": [
      "Grid 02\n",
      "[['2', '0', '0', '0', '8', '0', '3', '0', '0'],\n",
      " ['0', '6', '0', '0', '7', '0', '0', '8', '4'],\n",
      " ['0', '3', '0', '5', '6', '0', '2', '0', '9'],\n",
      " ['0', '0', '0', '1', '0', '5', '4', '0', '8'],\n",
      " ['0', '0', '0', '0', '0', '0', '0', '0', '0'],\n",
      " ['4', '0', '2', '7', '0', '6', '0', '0', '0'],\n",
      " ['3', '0', '1', '0', '0', '7', '0', '4', '0'],\n",
      " ['7', '2', '0', '0', '4', '0', '0', '6', '0'],\n",
      " ['0', '0', '4', '0', '1', '0', '0', '0', '3']]\n"
     ]
    }
   ],
   "source": [
    "print(b)"
   ]
  },
  {
   "cell_type": "code",
   "execution_count": null,
   "id": "28ffcd8b-a8bf-45a7-a05a-299da736262a",
   "metadata": {},
   "outputs": [],
   "source": []
  }
 ],
 "metadata": {
  "kernelspec": {
   "display_name": "Python 3 (ipykernel)",
   "language": "python",
   "name": "python3"
  },
  "language_info": {
   "codemirror_mode": {
    "name": "ipython",
    "version": 3
   },
   "file_extension": ".py",
   "mimetype": "text/x-python",
   "name": "python",
   "nbconvert_exporter": "python",
   "pygments_lexer": "ipython3",
   "version": "3.11.4"
  }
 },
 "nbformat": 4,
 "nbformat_minor": 5
}
